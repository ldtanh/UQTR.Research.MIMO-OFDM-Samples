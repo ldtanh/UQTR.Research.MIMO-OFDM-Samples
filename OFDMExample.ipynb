{
 "cells": [
  {
   "cell_type": "code",
   "execution_count": 89,
   "metadata": {},
   "outputs": [
    {
     "name": "stdout",
     "output_type": "stream",
     "text": [
      "The tikzmagic module is not an IPython extension.\n"
     ]
    }
   ],
   "source": [
    "import numpy as np\n",
    "import matplotlib.pyplot as plt\n",
    "\n",
    "\n",
    "import scipy.interpolate\n",
    "\n",
    "%matplotlib inline\n",
    "\n",
    "import tikzmagic\n",
    "%load_ext tikzmagic"
   ]
  },
  {
   "cell_type": "markdown",
   "metadata": {},
   "source": [
    "# Basic OFDM Example in Python\n",
    "\n",
    "In this notebook, we will investigate the basic building blocks of an OFDM system at the transmitter and receiver side. OFDM (Orthogonal frequency division multiplexing) is a multicarrier system that is applied in a wide range of wireless transmission systems, such as LTE, WiMAX and DVB-T and DAB. The fundamental concept of a multicarrier system is the division of a high-rate transmitted data stream into several low-rate narrow subcarriers. This way, several advantages are obtained:\n",
    "\n",
    "- Since the symbol duration is inverse proportional to the symbol rate, each subcarrier has relatively long symbols. Long symbols are robust against multipath fading, as it occurs in wireless systems.\n",
    "- When a carrier is in a deep fade due to frequency-selectivity of the channel (i.e. the received energy on this carrier is very low), only the data on this subcarrier is lost, instead of the whole stream.\n",
    "- Multicarrier systems allow easy multi-user resource sharing by allocating different subcarriers to different users.\n",
    "\n",
    "Consider the following block diagram, which contains fundamental blocks for the OFDM system:"
   ]
  },
  {
   "cell_type": "code",
   "execution_count": 90,
   "metadata": {},
   "outputs": [],
   "source": [
    "# %%tikz -l positioning,arrows --size 800,300\n",
    "# \\tikzset{block/.style={draw,thick,minimum width=1cm,minimum height=1cm,align=center}}\n",
    "# \\tikzset{node distance=0.5cm}\n",
    "# \\tikzset{double distance=1pt}\n",
    "# \\tikzset{>=latex}\n",
    "\n",
    "# \\begin{scope}\n",
    "# \\draw [->] (-0.5,0) node [left] {$\\vec{b}$}  -- (0,0) node (SP1) [right,block] {S/P}; \n",
    "# \\node (M) [block,right=of SP1] {Mapping};\n",
    "# \\node (IDFT) [block,right=of M] {IDFT};\n",
    "# \\node (PS1) [block,right=of IDFT] {P/S};\n",
    "# \\node (CP) [block,right=of PS1] {Add CP};\n",
    "\n",
    "# \\draw [double,->] (PS1) -- (CP);\n",
    "\n",
    "# \\def\\lines{\n",
    "# \\draw \\ls ([yshift=3.mm]\\from.east) -- ([yshift=3.mm]\\to.west); \n",
    "# \\draw \\ls ([yshift=1.mm]\\from.east) -- ([yshift=1.mm]\\to.west); \n",
    "# \\draw \\ls ([yshift=-1.mm]\\from.east) -- ([yshift=-1.mm]\\to.west); \n",
    "# \\draw \\ls ([yshift=-3.mm]\\from.east) -- ([yshift=-3.mm]\\to.west);   \n",
    "# }\n",
    "\n",
    "# \\def\\ls{[->]}\n",
    "# \\def\\from{SP1} \\def\\to{M} \\lines;\n",
    "# \\def\\ls{[->,double]}\n",
    "# \\def\\from{M} \\def\\to{IDFT} \\lines;\n",
    "# \\def\\from{IDFT} \\def\\to{PS1} \\lines;\n",
    "\n",
    "\n",
    "\n",
    "# \\node (C) [block,below right=of CP] {Channel}; \n",
    "\n",
    "# \\node (CP1) [block,below left=of C] {Remove CP};\n",
    "# \\node (SP2) [block,left=of CP1] {S/P};\n",
    "# \\node (DFT) [block,left=of SP2] {DFT};\n",
    "# \\node (EQ) [block,left=of DFT] {Equalize};\n",
    "# \\node (CE) [block,below=of EQ] {Channel\\\\Estimate};\n",
    "# \\node (Dem) [block,left=of EQ] {Demapping};\n",
    "# \\node (PS2) [block,left=of Dem] {P/S};\n",
    "# \\draw [->] (PS2.west) -- +(-0.5,0) node [left] {$\\hat{b}$};\n",
    "\n",
    "# \\def\\ls{[<-,double]}\n",
    "# \\def\\from{SP2} \\def\\to{CP1} \\lines;\n",
    "# \\def\\from{DFT} \\def\\to{SP2} \\lines;\n",
    "# \\def\\from{EQ} \\def\\to{DFT} \\lines;\n",
    "# \\def\\from{Dem} \\def\\to{EQ} \\lines;\n",
    "# \\def\\ls{[<-]}\n",
    "# \\def\\from{PS2} \\def\\to{Dem} \\lines;\n",
    "\n",
    "# \\draw [->,double,thick] (DFT.south) |- (CE.east);\n",
    "# \\draw [->,double,thick] (CE.north) -- (EQ.south);\n",
    "\n",
    "# \\draw [->,double] (CP) -| (C);\n",
    "# \\draw [->,double] (C) |- (CP1);\n",
    "\n",
    "# \\end{scope}"
   ]
  },
  {
   "cell_type": "markdown",
   "metadata": {},
   "source": [
    "In the following OFDM example, we will go through each block and describe its operation. However, before let us define some parameters that are used for the OFDM system:\n",
    "\n",
    "The number of subcarriers $K$ describes, how many subcarriers are available in the OFDM system."
   ]
  },
  {
   "cell_type": "code",
   "execution_count": 91,
   "metadata": {},
   "outputs": [],
   "source": [
    "K = 64 # number of OFDM subcarriers"
   ]
  },
  {
   "cell_type": "markdown",
   "metadata": {},
   "source": [
    "The length of the [cyclic prefix (CP)](http://dspillustrations.com/pages/posts/misc/the-cyclic-prefix-cp-in-ofdm.html) denotes the number of samples that are copied from the end of the modulated block to the beginning, to yield a cyclic extension of the block. There is a dedicated article on the [CP of OFDM](http://dspillustrations.com/pages/posts/misc/the-cyclic-prefix-cp-in-ofdm.html) which treats its application in more detail."
   ]
  },
  {
   "cell_type": "code",
   "execution_count": 92,
   "metadata": {},
   "outputs": [],
   "source": [
    "CP = K//4  # length of the cyclic prefix: 25% of the block"
   ]
  },
  {
   "cell_type": "markdown",
   "metadata": {},
   "source": [
    "The number of pilots $P$ in the OFDM symbol describes, how many carriers are used to transmit known information (i.e. pilots). Pilots will be used at the receiver to estimate the wireless channel between transmitter and receiver. Further, we also define the value that each pilots transmits (which is known to the receiver)."
   ]
  },
  {
   "cell_type": "code",
   "execution_count": 93,
   "metadata": {},
   "outputs": [],
   "source": [
    "P = 8 # number of pilot carriers per OFDM block\n",
    "pilotValue = 3+3j # The known value each pilot transmits"
   ]
  },
  {
   "cell_type": "markdown",
   "metadata": {},
   "source": [
    "Now, let us define some index sets that describe which carriers transmit pilots and which carriers contain payload."
   ]
  },
  {
   "cell_type": "code",
   "execution_count": 94,
   "metadata": {},
   "outputs": [
    {
     "name": "stdout",
     "output_type": "stream",
     "text": [
      "allCarriers:   [ 0  1  2  3  4  5  6  7  8  9 10 11 12 13 14 15 16 17 18 19 20 21 22 23\n",
      " 24 25 26 27 28 29 30 31 32 33 34 35 36 37 38 39 40 41 42 43 44 45 46 47\n",
      " 48 49 50 51 52 53 54 55 56 57 58 59 60 61 62 63]\n",
      "pilotCarriers: [ 0  8 16 24 32 40 48 56 63]\n",
      "dataCarriers:  [ 1  2  3  4  5  6  7  9 10 11 12 13 14 15 17 18 19 20 21 22 23 25 26 27\n",
      " 28 29 30 31 33 34 35 36 37 38 39 41 42 43 44 45 46 47 49 50 51 52 53 54\n",
      " 55 57 58 59 60 61 62]\n"
     ]
    },
    {
     "data": {
      "image/png": "[encoded data removed]",
      "text/plain": [
       "<Figure size 576x57.6 with 1 Axes>"
      ]
     },
     "metadata": {
      "needs_background": "light"
     },
     "output_type": "display_data"
    }
   ],
   "source": [
    "allCarriers = np.arange(K)  # indices of all subcarriers ([0, 1, ... K-1])\n",
    "\n",
    "pilotCarriers = allCarriers[::K//P] # Pilots is every (K/P)th carrier.\n",
    "\n",
    "# For convenience of channel estimation, let's make the last carriers also be a pilot\n",
    "pilotCarriers = np.hstack([pilotCarriers, np.array([allCarriers[-1]])])\n",
    "P = P+1\n",
    "\n",
    "# data carriers are all remaining carriers\n",
    "dataCarriers = np.delete(allCarriers, pilotCarriers)\n",
    "\n",
    "print (\"allCarriers:   %s\" % allCarriers)\n",
    "print (\"pilotCarriers: %s\" % pilotCarriers)\n",
    "print (\"dataCarriers:  %s\" % dataCarriers)\n",
    "plt.figure(figsize=(8,0.8))\n",
    "plt.plot(pilotCarriers, np.zeros_like(pilotCarriers), 'bo', label='pilot')\n",
    "plt.plot(dataCarriers, np.zeros_like(dataCarriers), 'ro', label='data')\n",
    "plt.legend(fontsize=10, ncol=2)\n",
    "plt.xlim((-1,K)); plt.ylim((-0.1, 0.3))\n",
    "plt.xlabel('Carrier index')\n",
    "plt.yticks([])\n",
    "plt.grid(True);\n"
   ]
  },
  {
   "cell_type": "markdown",
   "metadata": {},
   "source": [
    "Let's define the modulation index $\\mu$ and the corresponding mapping table. We consider 16QAM transmission, i.e. we have $\\mu=4$ bits per symbol. Furthermore, the mapping from groups of 4 bits to a 16QAM constellation symbol shall be defined in `mapping_table`."
   ]
  },
  {
   "cell_type": "code",
   "execution_count": 117,
   "metadata": {},
   "outputs": [
    {
     "data": {
      "text/plain": [
       "220"
      ]
     },
     "execution_count": 117,
     "metadata": {},
     "output_type": "execute_result"
    }
   ],
   "source": [
    "payloadBits_per_OFDM"
   ]
  },
  {
   "cell_type": "code",
   "execution_count": 95,
   "metadata": {},
   "outputs": [
    {
     "data": {
      "image/png": "[encoded data removed]",
      "text/plain": [
       "<Figure size 432x288 with 1 Axes>"
      ]
     },
     "metadata": {
      "needs_background": "light"
     },
     "output_type": "display_data"
    }
   ],
   "source": [
    "mu = 4 # bits per symbol (i.e. 16QAM)\n",
    "payloadBits_per_OFDM = len(dataCarriers)*mu  # number of payload bits per OFDM symbol\n",
    "\n",
    "mapping_table = {\n",
    "    (0,0,0,0) : -3-3j,\n",
    "    (0,0,0,1) : -3-1j,\n",
    "    (0,0,1,0) : -3+3j,\n",
    "    (0,0,1,1) : -3+1j,\n",
    "    (0,1,0,0) : -1-3j,\n",
    "    (0,1,0,1) : -1-1j,\n",
    "    (0,1,1,0) : -1+3j,\n",
    "    (0,1,1,1) : -1+1j,\n",
    "    (1,0,0,0) :  3-3j,\n",
    "    (1,0,0,1) :  3-1j,\n",
    "    (1,0,1,0) :  3+3j,\n",
    "    (1,0,1,1) :  3+1j,\n",
    "    (1,1,0,0) :  1-3j,\n",
    "    (1,1,0,1) :  1-1j,\n",
    "    (1,1,1,0) :  1+3j,\n",
    "    (1,1,1,1) :  1+1j\n",
    "}\n",
    "for b3 in [0, 1]:\n",
    "    for b2 in [0, 1]:\n",
    "        for b1 in [0, 1]:\n",
    "            for b0 in [0, 1]:\n",
    "                B = (b3, b2, b1, b0)\n",
    "                Q = mapping_table[B]\n",
    "                plt.plot(Q.real, Q.imag, 'bo')\n",
    "                plt.text(Q.real, Q.imag+0.2, \"\".join(str(x) for x in B), ha='center')\n",
    "plt.grid(True)\n",
    "plt.xlim((-4, 4)); plt.ylim((-4,4)); plt.xlabel('Real part (I)'); plt.ylabel('Imaginary part (Q)')\n",
    "plt.title('16 QAM Constellation with Gray-Mapping');"
   ]
  },
  {
   "cell_type": "markdown",
   "metadata": {},
   "source": [
    "Above, we have plotted the 16QAM constellation, along with the bit-labels. Note the Gray-mapping, i.e. two adjacent constellation symbols differ only by one bit and the other 3 bits remain the same. This technique helps to minimize bit-errors, in case a wrong constellation symbol is detected: Most probably, symbol errors are \"off-by-one\" errors, i.e. a symbol next to the correct symbol is detected. Then, only a single bit-error occurs.\n",
    "\n",
    "The demapping table is simply the inverse mapping of the mapping table:"
   ]
  },
  {
   "cell_type": "code",
   "execution_count": 96,
   "metadata": {},
   "outputs": [],
   "source": [
    "demapping_table = {v : k for k, v in mapping_table.items()}"
   ]
  },
  {
   "cell_type": "markdown",
   "metadata": {},
   "source": [
    "Let us now define the wireless channel between transmitter and receiver. Here, we use a two-tap multipath channel with given impulse response `channelResponse`. Also, we plot the corresponding frequency response. As we see, the channel is frequency-selective. Further, we define the signal-to-noise ratio in dB, that should occur at the receiver."
   ]
  },
  {
   "cell_type": "code",
   "execution_count": 97,
   "metadata": {},
   "outputs": [
    {
     "data": {
      "image/png": "[encoded data removed]",
      "text/plain": [
       "<Figure size 432x288 with 1 Axes>"
      ]
     },
     "metadata": {
      "needs_background": "light"
     },
     "output_type": "display_data"
    }
   ],
   "source": [
    "channelResponse = np.array([1, 0, 0.3+0.3j])  # the impulse response of the wireless channel\n",
    "H_exact = np.fft.fft(channelResponse, K)\n",
    "plt.plot(allCarriers, abs(H_exact))\n",
    "plt.xlabel('Subcarrier index'); plt.ylabel('$|H(f)|$'); plt.grid(True); plt.xlim(0, K-1)\n",
    "\n",
    "SNRdb = 25  # signal to noise-ratio in dB at the receiver "
   ]
  },
  {
   "cell_type": "markdown",
   "metadata": {},
   "source": [
    "Now, that we have defined the necessary parameters for our OFDM example, let us consider the blocks in the OFDM system. Reconsider the block diagram:"
   ]
  },
  {
   "cell_type": "code",
   "execution_count": 98,
   "metadata": {},
   "outputs": [],
   "source": [
    "# %%tikz -l positioning,arrows --size 800,300\n",
    "# \\tikzset{block/.style={draw,thick,minimum width=1cm,minimum height=1cm,align=center}}\n",
    "# \\tikzset{node distance=0.5cm}\n",
    "# \\tikzset{double distance=1pt}\n",
    "# \\tikzset{>=latex}\n",
    "\n",
    "# \\begin{scope}\n",
    "# \\draw [->] (-0.5,0) node [left] {$\\vec{b}$}  -- (0,0) node (SP1) [right,block] {S/P}; \n",
    "# \\node (M) [block,right=of SP1] {Mapping};\n",
    "# \\node (IDFT) [block,right=of M] {IDFT};\n",
    "# \\node (PS1) [block,right=of IDFT] {P/S};\n",
    "# \\node (CP) [block,right=of PS1] {Add CP};\n",
    "\n",
    "# \\draw [double,->] (PS1) -- (CP);\n",
    "\n",
    "# \\def\\lines{\n",
    "# \\draw \\ls ([yshift=3.mm]\\from.east) -- ([yshift=3.mm]\\to.west); \n",
    "# \\draw \\ls ([yshift=1.mm]\\from.east) -- ([yshift=1.mm]\\to.west); \n",
    "# \\draw \\ls ([yshift=-1.mm]\\from.east) -- ([yshift=-1.mm]\\to.west); \n",
    "# \\draw \\ls ([yshift=-3.mm]\\from.east) -- ([yshift=-3.mm]\\to.west);   \n",
    "# }\n",
    "\n",
    "# \\def\\ls{[->]}\n",
    "# \\def\\from{SP1} \\def\\to{M} \\lines;\n",
    "# \\def\\ls{[->,double]}\n",
    "# \\def\\from{M} \\def\\to{IDFT} \\lines;\n",
    "# \\def\\from{IDFT} \\def\\to{PS1} \\lines;\n",
    "\n",
    "\n",
    "\n",
    "# \\node (C) [block,below right=of CP] {Channel}; \n",
    "\n",
    "# \\node (CP1) [block,below left=of C] {Remove CP};\n",
    "# \\node (SP2) [block,left=of CP1] {S/P};\n",
    "# \\node (DFT) [block,left=of SP2] {DFT};\n",
    "# \\node (EQ) [block,left=of DFT] {Equalize};\n",
    "# \\node (CE) [block,below=of EQ] {Channel\\\\Estimate};\n",
    "# \\node (Dem) [block,left=of EQ] {Demapping};\n",
    "# \\node (PS2) [block,left=of Dem] {P/S};\n",
    "# \\draw [->] (PS2.west) -- +(-0.5,0) node [left] {$\\hat{b}$};\n",
    "\n",
    "# \\def\\ls{[<-,double]}\n",
    "# \\def\\from{SP2} \\def\\to{CP1} \\lines;\n",
    "# \\def\\from{DFT} \\def\\to{SP2} \\lines;\n",
    "# \\def\\from{EQ} \\def\\to{DFT} \\lines;\n",
    "# \\def\\from{Dem} \\def\\to{EQ} \\lines;\n",
    "# \\def\\ls{[<-]}\n",
    "# \\def\\from{PS2} \\def\\to{Dem} \\lines;\n",
    "\n",
    "# \\draw [->,double,thick] (DFT.south) |- (CE.east);\n",
    "# \\draw [->,double,thick] (CE.north) -- (EQ.south);\n",
    "\n",
    "# \\draw [->,double] (CP) -| (C);\n",
    "# \\draw [->,double] (C) |- (CP1);\n",
    "\n",
    "# \\end{scope}"
   ]
  },
  {
   "cell_type": "markdown",
   "metadata": {},
   "source": [
    "It all starts with a random bit sequence $b$. We generate the according bits by a random generator that draws from a [Bernoulli distribution](https://en.wikipedia.org/wiki/Bernoulli_distribution \"Wikipedia link\") with $p=0.5$, i.e. 1 and 0 have equal probability. Note, that the Bernoulli distribution is a special case of the [Binomial distribution](https://en.wikipedia.org/wiki/Binomial_distribution \"Wikipedia link\"), when only one draw is considered ($n=1$):"
   ]
  },
  {
   "cell_type": "code",
   "execution_count": 99,
   "metadata": {},
   "outputs": [
    {
     "name": "stdout",
     "output_type": "stream",
     "text": [
      "Bits count:  220\n",
      "First 20 bits:  [0 1 0 1 0 1 0 1 0 0 0 1 1 0 0 0 0 1 1 0]\n",
      "Mean of bits (should be around 0.5):  0.42272727272727273\n"
     ]
    }
   ],
   "source": [
    "bits = np.random.binomial(n=1, p=0.5, size=(payloadBits_per_OFDM, ))\n",
    "print (\"Bits count: \", len(bits))\n",
    "print (\"First 20 bits: \", bits[:20])\n",
    "print (\"Mean of bits (should be around 0.5): \", np.mean(bits))"
   ]
  },
  {
   "cell_type": "markdown",
   "metadata": {},
   "source": [
    "The `bits` are now sent to a serial-to-parallel converter, which groups the bits for the OFDM frame into a groups of $mu$ bits (i.e. one group for each subcarrier):"
   ]
  },
  {
   "cell_type": "code",
   "execution_count": 100,
   "metadata": {},
   "outputs": [
    {
     "name": "stdout",
     "output_type": "stream",
     "text": [
      "First 5 bit groups\n",
      "[[0 1 0 1]\n",
      " [0 1 0 1]\n",
      " [0 0 0 1]\n",
      " [1 0 0 0]\n",
      " [0 1 1 0]]\n"
     ]
    }
   ],
   "source": [
    "def SP(bits):\n",
    "    return bits.reshape((len(dataCarriers), mu))\n",
    "bits_SP = SP(bits)\n",
    "print (\"First 5 bit groups\")\n",
    "print (bits_SP[:5,:])"
   ]
  },
  {
   "cell_type": "markdown",
   "metadata": {},
   "source": [
    "Now, the bits groups are sent to the mapper. The mapper converts the groups into complex-valued constellation symbols according to the `mapping_table`."
   ]
  },
  {
   "cell_type": "code",
   "execution_count": 101,
   "metadata": {},
   "outputs": [
    {
     "name": "stdout",
     "output_type": "stream",
     "text": [
      "First 5 QAM symbols and bits:\n",
      "[[0 1 0 1]\n",
      " [0 1 0 1]\n",
      " [0 0 0 1]\n",
      " [1 0 0 0]\n",
      " [0 1 1 0]]\n",
      "[-1.-1.j -1.-1.j -3.-1.j  3.-3.j -1.+3.j]\n"
     ]
    }
   ],
   "source": [
    "def Mapping(bits):\n",
    "    return np.array([mapping_table[tuple(b)] for b in bits])\n",
    "QAM = Mapping(bits_SP)\n",
    "print (\"First 5 QAM symbols and bits:\")\n",
    "print (bits_SP[:5,:])\n",
    "print (QAM[:5])"
   ]
  },
  {
   "cell_type": "markdown",
   "metadata": {},
   "source": [
    "The next step (which is not shown in the diagram) is the allocation of different subcarriers with data and pilots. For each subcarrier we have defined wether it carries data or a pilot by the arrays `dataCarriers` and `pilotCarriers`. Now, to create the overall OFDM data, we need to put the data and pilots into the OFDM carriers:"
   ]
  },
  {
   "cell_type": "code",
   "execution_count": 102,
   "metadata": {},
   "outputs": [
    {
     "data": {
      "text/plain": [
       "array([-1.-1.j, -1.-1.j, -3.-1.j,  3.-3.j, -1.+3.j, -1.+1.j,  3.+3.j,\n",
       "       -3.+3.j, -3.-1.j, -1.+1.j, -1.-3.j, -1.-3.j,  3.-3.j,  3.+3.j,\n",
       "       -1.-1.j, -3.+3.j,  1.+1.j,  1.-1.j,  3.-1.j, -3.-1.j, -1.+1.j,\n",
       "       -3.-3.j,  3.-3.j, -3.+1.j,  1.+3.j,  1.+1.j,  3.-3.j,  1.+3.j,\n",
       "       -1.-1.j, -3.-3.j, -3.-1.j,  3.+1.j, -1.-1.j,  3.-3.j, -3.-3.j,\n",
       "       -1.+1.j,  1.+3.j, -3.-1.j, -1.+1.j, -3.-3.j,  3.+3.j, -3.+3.j,\n",
       "       -3.+1.j, -3.-3.j, -1.-1.j, -1.+3.j,  3.+3.j, -1.-1.j,  3.-3.j,\n",
       "       -1.-1.j,  3.-3.j, -3.-3.j, -3.-1.j,  1.+3.j, -3.-3.j])"
      ]
     },
     "execution_count": 102,
     "metadata": {},
     "output_type": "execute_result"
    }
   ],
   "source": [
    "QAM"
   ]
  },
  {
   "cell_type": "code",
   "execution_count": 103,
   "metadata": {},
   "outputs": [
    {
     "data": {
      "text/plain": [
       "array([ 3.+3.j, -3.+1.j, -3.-3.j,  3.+1.j,  1.-1.j,  3.+1.j,  1.-1.j,\n",
       "        1.-1.j,  3.+3.j, -1.+1.j,  3.+1.j, -3.+1.j, -1.-3.j,  3.-1.j,\n",
       "       -1.-3.j, -3.+3.j,  3.+3.j, -3.-1.j,  1.+3.j, -3.-1.j, -3.-1.j,\n",
       "        1.+3.j, -3.+1.j, -3.+3.j,  3.+3.j,  3.+1.j, -3.+3.j,  1.+1.j,\n",
       "        3.-3.j, -1.-3.j,  1.+3.j,  1.+3.j,  3.+3.j, -1.+1.j, -3.-1.j,\n",
       "       -1.+3.j,  1.+3.j, -1.+1.j,  3.+3.j,  3.+3.j,  3.+3.j,  1.+1.j,\n",
       "        1.+1.j, -3.-3.j, -1.+3.j,  1.-3.j,  3.+1.j, -1.+3.j,  3.+3.j,\n",
       "       -1.-1.j, -3.+3.j,  1.-1.j, -3.-3.j,  1.-3.j,  1.+3.j, -1.+3.j,\n",
       "        3.+3.j, -3.+1.j,  1.-3.j,  3.+3.j,  3.-1.j, -1.-3.j, -3.+3.j,\n",
       "        3.+3.j])"
      ]
     },
     "execution_count": 103,
     "metadata": {},
     "output_type": "execute_result"
    }
   ],
   "source": [
    "OFDM_data"
   ]
  },
  {
   "cell_type": "code",
   "execution_count": 104,
   "metadata": {},
   "outputs": [
    {
     "name": "stdout",
     "output_type": "stream",
     "text": [
      "Number of OFDM carriers in frequency domain:  64\n"
     ]
    }
   ],
   "source": [
    "def OFDM_symbol(QAM_payload):\n",
    "    symbol = np.zeros(K, dtype=complex) # the overall K subcarriers\n",
    "    symbol[pilotCarriers] = pilotValue  # allocate the pilot subcarriers \n",
    "    symbol[dataCarriers] = QAM_payload  # allocate the pilot subcarriers\n",
    "    return symbol\n",
    "OFDM_data = OFDM_symbol(QAM)\n",
    "print (\"Number of OFDM carriers in frequency domain: \", len(OFDM_data))"
   ]
  },
  {
   "cell_type": "markdown",
   "metadata": {},
   "source": [
    "Now, the OFDM carriers contained in `OFDM_data` can be transformed to the time-domain by means of the IDFT operation. "
   ]
  },
  {
   "cell_type": "code",
   "execution_count": 105,
   "metadata": {},
   "outputs": [
    {
     "name": "stdout",
     "output_type": "stream",
     "text": [
      "Number of OFDM samples in time-domain before CP:  64\n"
     ]
    }
   ],
   "source": [
    "def IDFT(OFDM_data):\n",
    "    return np.fft.ifft(OFDM_data)\n",
    "OFDM_time = IDFT(OFDM_data)\n",
    "print (\"Number of OFDM samples in time-domain before CP: \", len(OFDM_time))"
   ]
  },
  {
   "cell_type": "markdown",
   "metadata": {},
   "source": [
    "Subsequently, we add a cyclic prefix to the symbol. This operation concatenates a copy of the last `CP` samples of the OFDM time domain signal to the beginning. This way, a cyclic extension is achieved. The CP fulfills two tasks:\n",
    "\n",
    "1. It isolates different OFDM blocks from each other when the wireless channel contains multiple paths, i.e. is frequency-selective.\n",
    "2. It turns the linear convolution with the channel into a circular one. Only with a circular convolution, we can use the single-tap equalization OFDM is so famous for. \n",
    "\n",
    "For more information about the CP, you can refer to a dedicated article about the [Cyclic Prefix in OFDM](http://dspillustrations.com/pages/posts/misc/the-cyclic-prefix-cp-in-ofdm.html)."
   ]
  },
  {
   "cell_type": "code",
   "execution_count": 106,
   "metadata": {},
   "outputs": [
    {
     "name": "stdout",
     "output_type": "stream",
     "text": [
      "Number of OFDM samples in time domain with CP:  80\n"
     ]
    }
   ],
   "source": [
    "def addCP(OFDM_time):\n",
    "    cp = OFDM_time[-CP:]               # take the last CP samples ...\n",
    "    return np.hstack([cp, OFDM_time])  # ... and add them to the beginning\n",
    "OFDM_withCP = addCP(OFDM_time)\n",
    "print (\"Number of OFDM samples in time domain with CP: \", len(OFDM_withCP))"
   ]
  },
  {
   "cell_type": "markdown",
   "metadata": {},
   "source": [
    "Now, the signal is sent to the antenna and sent over the air to the receiver. In between both antennas, there is the wireless channel. We model this channel as a static multipath channel with impulse response `channelResponse`. Hence, the signal at the receive antenna is the convolution of the transmit signal with the channel response. Additionally, we add some noise to the signal according to the given SNR value:"
   ]
  },
  {
   "cell_type": "code",
   "execution_count": 107,
   "metadata": {},
   "outputs": [
    {
     "data": {
      "text/plain": [
       "array([1. +0.j , 0. +0.j , 0.3+0.3j])"
      ]
     },
     "execution_count": 107,
     "metadata": {},
     "output_type": "execute_result"
    }
   ],
   "source": [
    "channelResponse"
   ]
  },
  {
   "cell_type": "code",
   "execution_count": 108,
   "metadata": {},
   "outputs": [
    {
     "name": "stdout",
     "output_type": "stream",
     "text": [
      "RX Signal power: 0.2221. Noise power: 0.0007\n"
     ]
    },
    {
     "data": {
      "image/png": "[encoded data removed]",
      "text/plain": [
       "<Figure size 576x144 with 1 Axes>"
      ]
     },
     "metadata": {
      "needs_background": "light"
     },
     "output_type": "display_data"
    }
   ],
   "source": [
    "def channel(signal):\n",
    "    convolved = np.convolve(signal, channelResponse)\n",
    "    signal_power = np.mean(abs(convolved**2))\n",
    "    sigma2 = signal_power * 10**(-SNRdb/10)  # calculate noise power based on signal power and SNR\n",
    "    \n",
    "    print (\"RX Signal power: %.4f. Noise power: %.4f\" % (signal_power, sigma2))\n",
    "    \n",
    "    # Generate complex noise with given variance\n",
    "    noise = np.sqrt(sigma2/2) * (np.random.randn(*convolved.shape)+1j*np.random.randn(*convolved.shape))\n",
    "    return convolved + noise\n",
    "OFDM_TX = OFDM_withCP\n",
    "OFDM_RX = channel(OFDM_TX)\n",
    "plt.figure(figsize=(8,2))\n",
    "plt.plot(abs(OFDM_TX), label='TX signal')\n",
    "plt.plot(abs(OFDM_RX), label='RX signal')\n",
    "plt.legend(fontsize=10)\n",
    "plt.xlabel('Time'); plt.ylabel('$|x(t)|$');\n",
    "plt.grid(True);"
   ]
  },
  {
   "cell_type": "markdown",
   "metadata": {},
   "source": [
    "Now, at the receiver the CP is removed from the signal and a window of $K$ samples is extracted from the received signal."
   ]
  },
  {
   "cell_type": "code",
   "execution_count": 109,
   "metadata": {},
   "outputs": [],
   "source": [
    "def removeCP(signal):\n",
    "    return signal[CP:(CP+K)]\n",
    "OFDM_RX_noCP = removeCP(OFDM_RX)"
   ]
  },
  {
   "cell_type": "markdown",
   "metadata": {},
   "source": [
    "Afterwards, the signal is transformed back to the frequency domain, in order to have the received value on each subcarrier available."
   ]
  },
  {
   "cell_type": "code",
   "execution_count": 110,
   "metadata": {},
   "outputs": [],
   "source": [
    "def DFT(OFDM_RX):\n",
    "    return np.fft.fft(OFDM_RX)\n",
    "OFDM_demod = DFT(OFDM_RX_noCP)"
   ]
  },
  {
   "cell_type": "markdown",
   "metadata": {},
   "source": [
    "As the next step, the wireless channel needs to be estimated. For illustration purposes, we resort to a simple zero-forcing channel estimation followed by a simple interpolation. The principle of channel estimation is as follows:\n",
    "\n",
    "The transmit signal contains pilot values at certain pilot carriers. These pilot values and their position in the frequency domain (i.e. the pilot carrier index) are known to the receiver. From the received information at the pilot subcarriers, the receiver can estimate the effect of the wireless channel onto this subcarrier (because it knows what was transmitted and what was received). Hence, the receiver gains information about the wireless channel at the pilot carriers. However, it wants to know what happened at the data carriers. To achieve this, it interpolates the channel values between the pilot carriers to get an estimate of the channel in the data carriers."
   ]
  },
  {
   "cell_type": "code",
   "execution_count": 111,
   "metadata": {},
   "outputs": [
    {
     "name": "stderr",
     "output_type": "stream",
     "text": [
      "/home/anhldt/.local/lib/python3.6/site-packages/ipykernel_launcher.py:13: UserWarning: In Matplotlib 3.3 individual lines on a stem plot will be added as a LineCollection instead of individual lines. This significantly improves the performance of a stem plot. To remove this warning and switch to the new behaviour, set the \"use_line_collection\" keyword argument to True.\n",
      "  del sys.path[0]\n"
     ]
    },
    {
     "data": {
      "image/png": "[encoded data removed]",
      "text/plain": [
       "<Figure size 432x288 with 1 Axes>"
      ]
     },
     "metadata": {
      "needs_background": "light"
     },
     "output_type": "display_data"
    }
   ],
   "source": [
    "def channelEstimate(OFDM_demod):\n",
    "    pilots = OFDM_demod[pilotCarriers]  # extract the pilot values from the RX signal\n",
    "    Hest_at_pilots = pilots / pilotValue # divide by the transmitted pilot values\n",
    "    \n",
    "    # Perform interpolation between the pilot carriers to get an estimate\n",
    "    # of the channel in the data carriers. Here, we interpolate absolute value and phase \n",
    "    # separately\n",
    "    Hest_abs = scipy.interpolate.interp1d(pilotCarriers, abs(Hest_at_pilots), kind='linear')(allCarriers)\n",
    "    Hest_phase = scipy.interpolate.interp1d(pilotCarriers, np.angle(Hest_at_pilots), kind='linear')(allCarriers)\n",
    "    Hest = Hest_abs * np.exp(1j*Hest_phase)\n",
    "    \n",
    "    plt.plot(allCarriers, abs(H_exact), label='Correct Channel')\n",
    "    plt.stem(pilotCarriers, abs(Hest_at_pilots), label='Pilot estimates')\n",
    "    plt.plot(allCarriers, abs(Hest), label='Estimated channel via interpolation')\n",
    "    plt.grid(True); plt.xlabel('Carrier index'); plt.ylabel('$|H(f)|$'); plt.legend(fontsize=10)\n",
    "    plt.ylim(0,2)\n",
    "    \n",
    "    return Hest\n",
    "Hest = channelEstimate(OFDM_demod)"
   ]
  },
  {
   "cell_type": "markdown",
   "metadata": {},
   "source": [
    "Now that the channel is estimated at all carriers, we can use this information in the channel equalizer step. Here, for each subcarrier, the influence of the channel is removed such that we get the clear (only noisy) constellation symbols back."
   ]
  },
  {
   "cell_type": "code",
   "execution_count": 112,
   "metadata": {},
   "outputs": [],
   "source": [
    "def equalize(OFDM_demod, Hest):\n",
    "    return OFDM_demod / Hest\n",
    "equalized_Hest = equalize(OFDM_demod, Hest)"
   ]
  },
  {
   "cell_type": "markdown",
   "metadata": {},
   "source": [
    "The next step (not shown in the diagram) is to extract the data carriers from the equalized symbol. Here, we throw away the pilot carriers, as they do not provide any information, but were used for the channel estimation process."
   ]
  },
  {
   "cell_type": "code",
   "execution_count": 113,
   "metadata": {},
   "outputs": [
    {
     "data": {
      "image/png": "[encoded data removed]",
      "text/plain": [
       "<Figure size 432x288 with 1 Axes>"
      ]
     },
     "metadata": {
      "needs_background": "light"
     },
     "output_type": "display_data"
    }
   ],
   "source": [
    "def get_payload(equalized):\n",
    "    return equalized[dataCarriers]\n",
    "QAM_est = get_payload(equalized_Hest)\n",
    "plt.plot(QAM_est.real, QAM_est.imag, 'bo');\n",
    "plt.grid(True); plt.xlabel('Real part'); plt.ylabel('Imaginary Part'); plt.title(\"Received constellation\");"
   ]
  },
  {
   "cell_type": "markdown",
   "metadata": {},
   "source": [
    "Now, that the constellation is obtained back, we need to send the complex values to the demapper, to transform the constellation points to the bit groups. In order to do this, we compare each received constellation point against each possible constellation point and choose the constellation point which is closest to the received point. Then, we return the bit-group that belongs to this point."
   ]
  },
  {
   "cell_type": "code",
   "execution_count": 114,
   "metadata": {},
   "outputs": [
    {
     "data": {
      "image/png": "[encoded data removed]",
      "text/plain": [
       "<Figure size 432x288 with 1 Axes>"
      ]
     },
     "metadata": {
      "needs_background": "light"
     },
     "output_type": "display_data"
    }
   ],
   "source": [
    "def Demapping(QAM):\n",
    "    # array of possible constellation points\n",
    "    constellation = np.array([x for x in demapping_table.keys()])\n",
    "    \n",
    "    # calculate distance of each RX point to each possible point\n",
    "    dists = abs(QAM.reshape((-1,1)) - constellation.reshape((1,-1)))\n",
    "    \n",
    "    # for each element in QAM, choose the index in constellation \n",
    "    # that belongs to the nearest constellation point\n",
    "    const_index = dists.argmin(axis=1)\n",
    "    \n",
    "    # get back the real constellation point\n",
    "    hardDecision = constellation[const_index]\n",
    "    \n",
    "    # transform the constellation point into the bit groups\n",
    "    return np.vstack([demapping_table[C] for C in hardDecision]), hardDecision\n",
    "\n",
    "PS_est, hardDecision = Demapping(QAM_est)\n",
    "for qam, hard in zip(QAM_est, hardDecision):\n",
    "    plt.plot([qam.real, hard.real], [qam.imag, hard.imag], 'b-o');\n",
    "    plt.plot(hardDecision.real, hardDecision.imag, 'ro')\n",
    "plt.grid(True); plt.xlabel('Real part'); plt.ylabel('Imaginary part'); plt.title('Hard Decision demapping');"
   ]
  },
  {
   "cell_type": "markdown",
   "metadata": {},
   "source": [
    "In the diagram above, the blue points are the received QAM points, where as the the red points connected to them are the closest possible constellation points, and the bit groups corresponding to these red points are returned. \n",
    "\n",
    "Finally, the bit groups need to be converted to a serial stream of bits, by means of parallel to serial conversion."
   ]
  },
  {
   "cell_type": "code",
   "execution_count": 115,
   "metadata": {},
   "outputs": [],
   "source": [
    "def PS(bits):\n",
    "    return bits.reshape((-1,))\n",
    "bits_est = PS(PS_est)"
   ]
  },
  {
   "cell_type": "markdown",
   "metadata": {},
   "source": [
    "Now, that all bits are decoded, let's calculate the bit error rate:"
   ]
  },
  {
   "cell_type": "code",
   "execution_count": 116,
   "metadata": {},
   "outputs": [
    {
     "name": "stdout",
     "output_type": "stream",
     "text": [
      "Obtained Bit error rate:  0.00909090909090909\n"
     ]
    }
   ],
   "source": [
    "print (\"Obtained Bit error rate: \", np.sum(abs(bits-bits_est))/len(bits))"
   ]
  },
  {
   "cell_type": "markdown",
   "metadata": {},
   "source": [
    "Fortunately, no bit error occured and the transmission was successful (Reduce the SNR to get some bit errors)"
   ]
  }
 ],
 "metadata": {
  "kernelspec": {
   "display_name": "Python 3",
   "language": "python",
   "name": "python3"
  },
  "language_info": {
   "codemirror_mode": {
    "name": "ipython",
    "version": 3
   },
   "file_extension": ".py",
   "mimetype": "text/x-python",
   "name": "python",
   "nbconvert_exporter": "python",
   "pygments_lexer": "ipython3",
   "version": "3.6.8"
  }
 },
 "nbformat": 4,
 "nbformat_minor": 2
}
