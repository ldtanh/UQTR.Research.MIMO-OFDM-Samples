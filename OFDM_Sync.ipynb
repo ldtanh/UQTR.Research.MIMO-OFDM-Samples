{
 "cells": [
  {
   "cell_type": "code",
   "execution_count": 1,
   "metadata": {},
   "outputs": [
    {
     "name": "stdout",
     "output_type": "stream",
     "text": [
      "The tikzmagic module is not an IPython extension.\n"
     ]
    }
   ],
   "source": [
    "import tikzmagic\n",
    "%load_ext tikzmagic\n",
    "\n",
    "import numpy as np\n",
    "import matplotlib.pyplot as plt\n",
    "import matplotlib.patches as patches\n",
    "from matplotlib import animation\n",
    "import matplotlib\n",
    "%matplotlib inline\n",
    "\n",
    "import scipy.signal\n",
    "\n",
    "from ipywidgets import interact\n",
    "from IPython.display import HTML, display\n",
    "\n",
    "matplotlib.rcParams['figure.figsize'] = (8,3)\n",
    "matplotlib.rcParams['animation.writer'] = 'avconv'\n",
    "\n",
    "arrow_kwargs = {'arrowprops':dict(arrowstyle=\"<->\",\n",
    "                            )}\n",
    "# workaround function for strange interact implementation\n",
    "def showInInteract():\n",
    "    import inspect\n",
    "    for i in range(5):\n",
    "        if 'interaction.py' in inspect.stack()[i][1]: plt.show()"
   ]
  },
  {
   "cell_type": "markdown",
   "metadata": {},
   "source": [
    "# The Schmidl & Cox Synchronization Technique for OFDM\n",
    "> tl;dr: Given some received OFDM signal like the following, how can one know at which point in time the OFDM symbols are located? Or, equivalently, on which signal part the receiver needs to perform the FFT?"
   ]
  },
  {
   "cell_type": "code",
   "execution_count": 2,
   "metadata": {},
   "outputs": [
    {
     "ename": "NameError",
     "evalue": "name 'createFrame' is not defined",
     "output_type": "error",
     "traceback": [
      "\u001b[0;31m---------------------------------------------------------------------------\u001b[0m",
      "\u001b[0;31mNameError\u001b[0m                                 Traceback (most recent call last)",
      "\u001b[0;32m<ipython-input-2-3f07e3416ebc>\u001b[0m in \u001b[0;36m<module>\u001b[0;34m\u001b[0m\n\u001b[1;32m      1\u001b[0m \u001b[0;31m# This cell can only be run once the rest of the notebook has been run (as ofdm and createFrame need to be defined)\u001b[0m\u001b[0;34m\u001b[0m\u001b[0;34m\u001b[0m\u001b[0;34m\u001b[0m\u001b[0m\n\u001b[0;32m----> 2\u001b[0;31m \u001b[0mS\u001b[0m \u001b[0;34m=\u001b[0m \u001b[0mnp\u001b[0m\u001b[0;34m.\u001b[0m\u001b[0mhstack\u001b[0m\u001b[0;34m(\u001b[0m\u001b[0;34m[\u001b[0m\u001b[0mcreateFrame\u001b[0m\u001b[0;34m(\u001b[0m\u001b[0mofdm\u001b[0m\u001b[0;34m)\u001b[0m \u001b[0;32mfor\u001b[0m \u001b[0m_\u001b[0m \u001b[0;32min\u001b[0m \u001b[0mrange\u001b[0m\u001b[0;34m(\u001b[0m\u001b[0;36m5\u001b[0m\u001b[0;34m)\u001b[0m\u001b[0;34m]\u001b[0m\u001b[0;34m)\u001b[0m\u001b[0;34m.\u001b[0m\u001b[0mreal\u001b[0m\u001b[0;34m\u001b[0m\u001b[0;34m\u001b[0m\u001b[0m\n\u001b[0m\u001b[1;32m      3\u001b[0m \u001b[0mplt\u001b[0m\u001b[0;34m.\u001b[0m\u001b[0mplot\u001b[0m\u001b[0;34m(\u001b[0m\u001b[0mS\u001b[0m\u001b[0;34m)\u001b[0m\u001b[0;34m\u001b[0m\u001b[0;34m\u001b[0m\u001b[0m\n\u001b[1;32m      4\u001b[0m \u001b[0mplt\u001b[0m\u001b[0;34m.\u001b[0m\u001b[0mgrid\u001b[0m\u001b[0;34m(\u001b[0m\u001b[0;32mTrue\u001b[0m\u001b[0;34m)\u001b[0m\u001b[0;34m;\u001b[0m \u001b[0mplt\u001b[0m\u001b[0;34m.\u001b[0m\u001b[0mxlabel\u001b[0m\u001b[0;34m(\u001b[0m\u001b[0;34m'Time $t$'\u001b[0m\u001b[0;34m)\u001b[0m\u001b[0;34m;\u001b[0m \u001b[0mplt\u001b[0m\u001b[0;34m.\u001b[0m\u001b[0mylabel\u001b[0m\u001b[0;34m(\u001b[0m\u001b[0;34m'$x(t)$'\u001b[0m\u001b[0;34m)\u001b[0m\u001b[0;34m;\u001b[0m \u001b[0mplt\u001b[0m\u001b[0;34m.\u001b[0m\u001b[0mxlim\u001b[0m\u001b[0;34m(\u001b[0m\u001b[0;34m(\u001b[0m\u001b[0;36m0\u001b[0m\u001b[0;34m,\u001b[0m \u001b[0mlen\u001b[0m\u001b[0;34m(\u001b[0m\u001b[0mS\u001b[0m\u001b[0;34m)\u001b[0m\u001b[0;34m)\u001b[0m\u001b[0;34m)\u001b[0m\u001b[0;34m;\u001b[0m\u001b[0;34m\u001b[0m\u001b[0;34m\u001b[0m\u001b[0m\n\u001b[1;32m      5\u001b[0m \u001b[0mplt\u001b[0m\u001b[0;34m.\u001b[0m\u001b[0mtext\u001b[0m\u001b[0;34m(\u001b[0m\u001b[0mlen\u001b[0m\u001b[0;34m(\u001b[0m\u001b[0mS\u001b[0m\u001b[0;34m)\u001b[0m\u001b[0;34m/\u001b[0m\u001b[0;36m2\u001b[0m\u001b[0;34m,\u001b[0m \u001b[0;36m0\u001b[0m\u001b[0;34m,\u001b[0m \u001b[0;34m\"Where is the OFDM symbol?\"\u001b[0m\u001b[0;34m,\u001b[0m \u001b[0mva\u001b[0m\u001b[0;34m=\u001b[0m\u001b[0;34m'center'\u001b[0m\u001b[0;34m,\u001b[0m \u001b[0mha\u001b[0m\u001b[0;34m=\u001b[0m\u001b[0;34m'center'\u001b[0m\u001b[0;34m,\u001b[0m \u001b[0mfontsize\u001b[0m\u001b[0;34m=\u001b[0m\u001b[0;36m20\u001b[0m\u001b[0;34m,\u001b[0m \u001b[0mcolor\u001b[0m\u001b[0;34m=\u001b[0m\u001b[0;34m'red'\u001b[0m\u001b[0;34m)\u001b[0m\u001b[0;34m;\u001b[0m\u001b[0;34m\u001b[0m\u001b[0;34m\u001b[0m\u001b[0m\n",
      "\u001b[0;32m<ipython-input-2-3f07e3416ebc>\u001b[0m in \u001b[0;36m<listcomp>\u001b[0;34m(.0)\u001b[0m\n\u001b[1;32m      1\u001b[0m \u001b[0;31m# This cell can only be run once the rest of the notebook has been run (as ofdm and createFrame need to be defined)\u001b[0m\u001b[0;34m\u001b[0m\u001b[0;34m\u001b[0m\u001b[0;34m\u001b[0m\u001b[0m\n\u001b[0;32m----> 2\u001b[0;31m \u001b[0mS\u001b[0m \u001b[0;34m=\u001b[0m \u001b[0mnp\u001b[0m\u001b[0;34m.\u001b[0m\u001b[0mhstack\u001b[0m\u001b[0;34m(\u001b[0m\u001b[0;34m[\u001b[0m\u001b[0mcreateFrame\u001b[0m\u001b[0;34m(\u001b[0m\u001b[0mofdm\u001b[0m\u001b[0;34m)\u001b[0m \u001b[0;32mfor\u001b[0m \u001b[0m_\u001b[0m \u001b[0;32min\u001b[0m \u001b[0mrange\u001b[0m\u001b[0;34m(\u001b[0m\u001b[0;36m5\u001b[0m\u001b[0;34m)\u001b[0m\u001b[0;34m]\u001b[0m\u001b[0;34m)\u001b[0m\u001b[0;34m.\u001b[0m\u001b[0mreal\u001b[0m\u001b[0;34m\u001b[0m\u001b[0;34m\u001b[0m\u001b[0m\n\u001b[0m\u001b[1;32m      3\u001b[0m \u001b[0mplt\u001b[0m\u001b[0;34m.\u001b[0m\u001b[0mplot\u001b[0m\u001b[0;34m(\u001b[0m\u001b[0mS\u001b[0m\u001b[0;34m)\u001b[0m\u001b[0;34m\u001b[0m\u001b[0;34m\u001b[0m\u001b[0m\n\u001b[1;32m      4\u001b[0m \u001b[0mplt\u001b[0m\u001b[0;34m.\u001b[0m\u001b[0mgrid\u001b[0m\u001b[0;34m(\u001b[0m\u001b[0;32mTrue\u001b[0m\u001b[0;34m)\u001b[0m\u001b[0;34m;\u001b[0m \u001b[0mplt\u001b[0m\u001b[0;34m.\u001b[0m\u001b[0mxlabel\u001b[0m\u001b[0;34m(\u001b[0m\u001b[0;34m'Time $t$'\u001b[0m\u001b[0;34m)\u001b[0m\u001b[0;34m;\u001b[0m \u001b[0mplt\u001b[0m\u001b[0;34m.\u001b[0m\u001b[0mylabel\u001b[0m\u001b[0;34m(\u001b[0m\u001b[0;34m'$x(t)$'\u001b[0m\u001b[0;34m)\u001b[0m\u001b[0;34m;\u001b[0m \u001b[0mplt\u001b[0m\u001b[0;34m.\u001b[0m\u001b[0mxlim\u001b[0m\u001b[0;34m(\u001b[0m\u001b[0;34m(\u001b[0m\u001b[0;36m0\u001b[0m\u001b[0;34m,\u001b[0m \u001b[0mlen\u001b[0m\u001b[0;34m(\u001b[0m\u001b[0mS\u001b[0m\u001b[0;34m)\u001b[0m\u001b[0;34m)\u001b[0m\u001b[0;34m)\u001b[0m\u001b[0;34m;\u001b[0m\u001b[0;34m\u001b[0m\u001b[0;34m\u001b[0m\u001b[0m\n\u001b[1;32m      5\u001b[0m \u001b[0mplt\u001b[0m\u001b[0;34m.\u001b[0m\u001b[0mtext\u001b[0m\u001b[0;34m(\u001b[0m\u001b[0mlen\u001b[0m\u001b[0;34m(\u001b[0m\u001b[0mS\u001b[0m\u001b[0;34m)\u001b[0m\u001b[0;34m/\u001b[0m\u001b[0;36m2\u001b[0m\u001b[0;34m,\u001b[0m \u001b[0;36m0\u001b[0m\u001b[0;34m,\u001b[0m \u001b[0;34m\"Where is the OFDM symbol?\"\u001b[0m\u001b[0;34m,\u001b[0m \u001b[0mva\u001b[0m\u001b[0;34m=\u001b[0m\u001b[0;34m'center'\u001b[0m\u001b[0;34m,\u001b[0m \u001b[0mha\u001b[0m\u001b[0;34m=\u001b[0m\u001b[0;34m'center'\u001b[0m\u001b[0;34m,\u001b[0m \u001b[0mfontsize\u001b[0m\u001b[0;34m=\u001b[0m\u001b[0;36m20\u001b[0m\u001b[0;34m,\u001b[0m \u001b[0mcolor\u001b[0m\u001b[0;34m=\u001b[0m\u001b[0;34m'red'\u001b[0m\u001b[0;34m)\u001b[0m\u001b[0;34m;\u001b[0m\u001b[0;34m\u001b[0m\u001b[0;34m\u001b[0m\u001b[0m\n",
      "\u001b[0;31mNameError\u001b[0m: name 'createFrame' is not defined"
     ]
    }
   ],
   "source": [
    "# This cell can only be run once the rest of the notebook has been run (as ofdm and createFrame need to be defined)\n",
    "S = np.hstack([createFrame(ofdm) for _ in range(5)]).real\n",
    "plt.plot(S)\n",
    "plt.grid(True); plt.xlabel('Time $t$'); plt.ylabel('$x(t)$'); plt.xlim((0, len(S)));\n",
    "plt.text(len(S)/2, 0, \"Where is the OFDM symbol?\", va='center', ha='center', fontsize=20, color='red');"
   ]
  },
  {
   "cell_type": "markdown",
   "metadata": {},
   "source": [
    "In the [OFDM example](http://dspillustrations.com/pages/posts/misc/python-ofdm-example.html), we have described the OFDM modulation and demodulation, including channel estimation and CP insertion. On the significance of the CP we have already elaborated in [another article](http://dspillustrations.com/pages/posts/misc/the-cyclic-prefix-cp-in-ofdm.html). However, in all these works, we have assumed that the receiver knows, at which point in time the OFDM symbol is received and hence on which received samples to perform the FFT. \n",
    "\n",
    "However, in reality this information is not available by default. Instead, the receiver needs to perform a synchronization procedure to obtain the start of the OFDM symbol. When talking about OFDM, the most fundamental work was published by Timothy Schmidl and Donald Cox in their paper [Robust Frequency and Timing Synchronization for OFDM](http://home.mit.bme.hu/~kollar/papers/Schmidl2.pdf). In this notebook, we are going to illustrate their algorithm presented in this paper concerning the estimation of the frame start in the time domain. In addition, the authors propose a method for frequency offset estimation, which we silently ignore in the present description.\n",
    "\n",
    "So, to summarize, here's the task of synchronization:\n",
    "> Given a received OFDM signal, how can we obtain knowledge about where in the signal the OFDM symbols are located?\n",
    "\n",
    "In what follows we will describe the proposal by Schmidl&Cox and implement this algorithm for timing synchronization. However, before we dive into the implementation, we need to setup the system model. "
   ]
  },
  {
   "cell_type": "markdown",
   "metadata": {},
   "source": [
    "## System Model and Frame Structure\n",
    "\n",
    "Mathematically, in this notebook we describe the received signal $r(t)$ by a delayed and noisy version of the transmitted signal $x(t)$:\n",
    "\n",
    "$$ r(t) = x(t-\\tau)+n(t)$$\n",
    "\n",
    "where $\\tau$ is the delay and $n(t)$ is AWGN. $\\tau$ is unknown at the receiver and needs to be estimated. \n",
    "\n",
    "Schmidl and Cox propose a synchronization algorithm that bases on an OFDM symbol that has a special structure. In particular, the special symbol, denoted as the *preamble*, consists of two repeated parts, prepended by a cyclic prefix (CP). As such, in this notebook, we will employ the following overall frame structure:"
   ]
  },
  {
   "cell_type": "code",
   "execution_count": 4,
   "metadata": {},
   "outputs": [],
   "source": [
    "# %%tikz -l positioning,arrows,decorations.pathreplacing --size 800,300\n",
    "# \\draw (0,0) rectangle +(1,0.4) node [midway] {A};\n",
    "# \\draw (1,0) rectangle +(1,0.4) node [midway] {A};\n",
    "# \\draw (-0.2,0) rectangle +(0.2,0.4) node [midway] {\\rotatebox{90}{\\tiny{CP}}};\n",
    "\n",
    "# \\foreach \\i in {0,...,3} {\n",
    "#   \\draw (2+\\i*2.2,0) rectangle +(0.2,0.4) node [midway] {\\rotatebox{90}{\\tiny{CP}}};\n",
    "#   \\draw (2.2+\\i*2.2,0) rectangle +(2,0.4) node [midway] {Payload};\n",
    "# }\n",
    "\n",
    "# \\draw [decorate, decoration={brace,amplitude=5pt,mirror}] (-0.2,-0.2) -- +(2.2,0) node [midway,below,yshift=-5pt] {Preamble};\n",
    "# \\draw [decorate, decoration={brace,amplitude=5pt,mirror}] (2,-0.2) -- +(4*2.2,0) node [midway,below,yshift=-5pt] {N OFDM Symbols};"
   ]
  },
  {
   "cell_type": "markdown",
   "metadata": {},
   "source": [
    "Each frame starts with a preamble which consists of two repeated parts, denoted by $A$. Subsequently, there will be $N$ OFDM symbols following containing the payload information. Note that in the Schmidl and Cox proposal, also the preamble can contain information, as the part $A$ can be arbitrary. The only criterion is that the part is repeated twice."
   ]
  },
  {
   "cell_type": "markdown",
   "metadata": {},
   "source": [
    "## Modeling the received signal\n",
    "To implement the synchronization algorithm, let us first generate an appropriate receive signal. We start with a dummy structure which holds all the OFDM parameters:"
   ]
  },
  {
   "cell_type": "code",
   "execution_count": 5,
   "metadata": {},
   "outputs": [],
   "source": [
    "class OFDM:\n",
    "    pass\n",
    "ofdm = OFDM()\n",
    "ofdm.K = 1024                      # Number of OFDM subcarriers\n",
    "ofdm.Kon = 600                     # Number of switched-on subcarriers\n",
    "ofdm.CP = 128                      # Number of samples in the CP\n",
    "ofdm.ofdmSymbolsPerFrame = 5       # N, number of payload symbols in each frame\n",
    "ofdm.L = ofdm.K//2                 # Parameter L, denotes the length of one repeated part of the preamble"
   ]
  },
  {
   "cell_type": "markdown",
   "metadata": {},
   "source": [
    "Moreover, let's define a function for generating random QAM symbols:"
   ]
  },
  {
   "cell_type": "code",
   "execution_count": 6,
   "metadata": {},
   "outputs": [],
   "source": [
    "def random_qam(ofdm):\n",
    "    qam = np.array([1+1j, 1-1j, -1+1j, -1-1j]) / np.sqrt(2)\n",
    "    return np.random.choice(qam, size=(ofdm.Kon), replace=True)"
   ]
  },
  {
   "cell_type": "markdown",
   "metadata": {},
   "source": [
    "Now, we define a function to perform OFDM modulation and CP insertion:"
   ]
  },
  {
   "cell_type": "code",
   "execution_count": 7,
   "metadata": {},
   "outputs": [],
   "source": [
    "def ofdm_modulate(ofdm, qam):\n",
    "    assert (len(qam) == ofdm.Kon)\n",
    "    fd_data = np.zeros(ofdm.K, dtype=complex)\n",
    "    off = (ofdm.K - ofdm.Kon)//2\n",
    "    fd_data[off:(off+len(qam))] = qam  # modulate in the center of the frequency\n",
    "    fd_data = np.fft.fftshift(fd_data)\n",
    "    symbol = np.fft.ifft(fd_data) * np.sqrt(ofdm.K)\n",
    "    return np.hstack([symbol[-ofdm.CP:], symbol])"
   ]
  },
  {
   "cell_type": "markdown",
   "metadata": {},
   "source": [
    "Now, let's generate an example preamble. To generate two repetitive parts, we exploit a [property of the Fourier Transform](http://dspillustrations.com/pages/posts/misc/the-dirac-comb-and-its-fourier-transform.html): The DFT of a $P$-periodic sequence (i.e. a sequence consisting of $P$ repetions on one part), is non-zero only every $P$th sample. Hence, if we create a frequency domain signal with every other sample zero, the corresponding time-domain signal is 2-periodic:"
   ]
  },
  {
   "cell_type": "code",
   "execution_count": 8,
   "metadata": {},
   "outputs": [
    {
     "data": {
      "image/png": "[encoded data removed]",
      "text/plain": [
       "<Figure size 432x288 with 2 Axes>"
      ]
     },
     "metadata": {
      "needs_background": "light"
     },
     "output_type": "display_data"
    }
   ],
   "source": [
    "qam_preamble = np.sqrt(2)*random_qam(ofdm)\n",
    "qam_preamble[::2] = 0   # delete every second data to make the preamble 2-periodic\n",
    "\n",
    "preamble = ofdm_modulate(ofdm, qam_preamble)\n",
    "\n",
    "plt.subplot(121)\n",
    "plt.plot(abs(preamble))\n",
    "plt.grid(True); plt.xlabel('Samples'); plt.ylabel('$|p[n]|$'); plt.title('Preamble in time $p[n]$');\n",
    "plt.annotate(s='', xy=(ofdm.CP,1.5), xytext=(ofdm.L+ofdm.CP,1.5), arrowprops=dict(arrowstyle='<->'));\n",
    "plt.annotate(s='', xy=(ofdm.L+ofdm.CP,1.5), xytext=(2*ofdm.L+ofdm.CP,1.5), arrowprops=dict(arrowstyle='<->'));\n",
    "plt.annotate(s='', xy=(ofdm.L/2+ofdm.CP,1.6),\n",
    "             xytext=(1.5*ofdm.L+ofdm.CP,1.6),\n",
    "             arrowprops=dict(\n",
    "                 arrowstyle='-',\n",
    "                 connectionstyle='angle,angleA=-15,angleB=15,rad=45'))\n",
    "plt.text(ofdm.CP+ofdm.L, 1.8, 'Repeated parts', va='bottom', ha='center', fontsize=10);\n",
    "plt.ylim((0,2))\n",
    "\n",
    "plt.subplot(122)\n",
    "f = np.linspace(-ofdm.K/2, ofdm.K/2, 4*len(preamble), endpoint=False)\n",
    "plt.plot(f, 20*np.log10(abs(np.fft.fftshift(np.fft.fft(preamble, 4*len(preamble))/np.sqrt(len(preamble))))))\n",
    "plt.grid(True); plt.xlabel('Subcarriers'); plt.ylabel('$|P(f)|$ [dB]'); plt.title('Preamble in frequency $P(f)$');\n",
    "plt.xlim((-ofdm.K/2, ofdm.K/2))\n",
    "plt.tight_layout();"
   ]
  },
  {
   "cell_type": "markdown",
   "metadata": {},
   "source": [
    "Now, that we can create a preamble, let's write a function that creates one frame according to the structure defined earlier:"
   ]
  },
  {
   "cell_type": "code",
   "execution_count": 9,
   "metadata": {},
   "outputs": [],
   "source": [
    "def createFrame(ofdm, qam_preamble=None):\n",
    "    if qam_preamble is None:\n",
    "        qam_preamble = np.sqrt(2)*random_qam(ofdm)\n",
    "        qam_preamble[::2] = 0\n",
    "    preamble = ofdm_modulate(ofdm, qam_preamble)\n",
    "    \n",
    "    payload = np.hstack([ofdm_modulate(ofdm, random_qam(ofdm)) for _ in range(ofdm.ofdmSymbolsPerFrame)])\n",
    "    return np.hstack([preamble, payload])"
   ]
  },
  {
   "cell_type": "markdown",
   "metadata": {},
   "source": [
    "Let's plot the frame and annotate the symbol. For letting the preamble shine out, we amplify it a bit:"
   ]
  },
  {
   "cell_type": "code",
   "execution_count": 10,
   "metadata": {},
   "outputs": [
    {
     "data": {
      "image/png": "[encoded data removed]",
      "text/plain": [
       "<Figure size 432x288 with 1 Axes>"
      ]
     },
     "metadata": {
      "needs_background": "light"
     },
     "output_type": "display_data"
    }
   ],
   "source": [
    "frame = createFrame(ofdm, qam_preamble=qam_preamble*2)\n",
    "plt.plot(abs(frame))\n",
    "plt.ylim((-1, 5))\n",
    "symLength = ofdm.K + ofdm.CP\n",
    "plt.annotate(s='',xy=(0,-0.4), xytext=(symLength, -0.4), arrowprops=dict(arrowstyle='<->'))\n",
    "plt.text(0.5*(ofdm.K+ofdm.CP),-0.4,r'Preamble',va='bottom', ha='center', fontsize=10);\n",
    "for s in range(ofdm.ofdmSymbolsPerFrame):\n",
    "    plt.annotate(s='',xy=((s+1)*symLength, -0.4), xytext=((s+2)*symLength, -0.4), arrowprops=dict(arrowstyle='<->'))\n",
    "    plt.text((s+1.5)*symLength, -0.4, 'OFDM Symbol', va='bottom', ha='center', fontsize=10);\n",
    "    plt.axvline((s+1)*symLength, ls='dashed', color='black')\n",
    "plt.xlabel('n [Samples]'); plt.ylabel('$|x[n]|$'); plt.title('One OFDM Frame $x[n]$');"
   ]
  },
  {
   "cell_type": "markdown",
   "metadata": {},
   "source": [
    "Now, let's define the channel, which we model with some functions:"
   ]
  },
  {
   "cell_type": "code",
   "execution_count": 11,
   "metadata": {},
   "outputs": [],
   "source": [
    "def addCFO(signal, cfo):  # Add carrier frequency offset (unused in this notebook)\n",
    "    return signal * np.exp(2j*np.pi*cfo*np.arange(len(signal)))\n",
    "\n",
    "def addSTO(signal, sto):  # add some time offset\n",
    "    return np.hstack([np.zeros(sto), signal])\n",
    "\n",
    "def addNoise(signal, sigma2):  # add AWGN\n",
    "    noise = np.sqrt(sigma2/2) * (np.random.randn(len(signal)) + 1j*np.random.randn(len(signal)))\n",
    "    return signal + noise\n",
    "\n",
    "def addChannel(signal, h):       # add some multipath impulse response (unused in this notebook)\n",
    "    return scipy.signal.lfilter(h, (1,), signal)"
   ]
  },
  {
   "cell_type": "markdown",
   "metadata": {},
   "source": [
    "We can try out these functions in the following:"
   ]
  },
  {
   "cell_type": "code",
   "execution_count": 12,
   "metadata": {},
   "outputs": [
    {
     "data": {
      "image/png": "[encoded data removed]",
      "text/plain": [
       "<Figure size 432x288 with 1 Axes>"
      ]
     },
     "metadata": {
      "needs_background": "light"
     },
     "output_type": "display_data"
    }
   ],
   "source": [
    "x = createFrame(ofdm, qam_preamble=qam_preamble*2)\n",
    "sto = ofdm.K//2\n",
    "r = addNoise(addSTO(x, sto), 0.5)\n",
    "plt.plot(abs(r));\n",
    "plt.xlabel('Time samples $n$'); plt.ylabel('$|x[n]|$'); plt.grid(True);"
   ]
  },
  {
   "cell_type": "markdown",
   "metadata": {},
   "source": [
    "Now that we can create a receive signal, we can implement the proposed synchronization algorithm. The algorithm is based on a metric which is calculated from the received signal. In short, when the metric goes beyond a certain threshold, the preamble is detected."
   ]
  },
  {
   "cell_type": "markdown",
   "metadata": {},
   "source": [
    "### Calculating $P(d)$\n",
    "In their paper, the authors propose the following metric $P(d)$ given by equation (5) as\n",
    "\n",
    "$$ P(d) = \\sum_{m=0}^{L-1}(r[d+m]^*r[d+m+L]) $$\n",
    "\n",
    "which we can calculate directly:"
   ]
  },
  {
   "cell_type": "code",
   "execution_count": null,
   "metadata": {},
   "outputs": [],
   "source": [
    "# Method 1 to calculate P(d)\n",
    "d_set = np.arange(0, sto + ofdm.K)\n",
    "P1 = np.zeros(len(d_set), dtype=complex)\n",
    "for i, d in enumerate(d_set):\n",
    "    P1[i] = sum(r[d+m].conj()*r[d+m+ofdm.L] for m in range(ofdm.L))           "
   ]
  },
  {
   "cell_type": "code",
   "execution_count": null,
   "metadata": {},
   "outputs": [],
   "source": [
    "plt.plot(d_set, abs(P1))\n",
    "plt.grid(True); plt.xlabel('$d$'); plt.ylabel('$|P(d)|$'); plt.ylim((-10, 4*350));\n",
    "plt.annotate(s='', xy=(sto, 4*310), xytext=(sto+ofdm.CP,4*310), arrowprops=dict(arrowstyle='<->', shrinkA=0, shrinkB=0))\n",
    "plt.text(sto+0.5*ofdm.CP,4*310,r'CP',va='bottom', ha='center', fontsize=10);\n",
    "plt.axvline(sto, color='black', ls='dotted')\n",
    "plt.axvline(sto+ofdm.CP, color='black', ls='dotted');\n",
    "\n",
    "plt.annotate(s='', xy=(0, 4*310), xytext=(sto,4*310), arrowprops=dict(arrowstyle='<->', shrinkA=0, shrinkB=0))\n",
    "plt.text(0.5*sto, 4*310, 'Timing offset', va='bottom', ha='center', fontsize=10);"
   ]
  },
  {
   "cell_type": "markdown",
   "metadata": {},
   "source": [
    "As we see, the metric $P(d)$ shows a plateau starting at the timing offset. Moreover, the plateau has the width equal to the CP length. With this observation, it might be problematic to determine the exact start of the OFDM frame as no distinct peak occurs. However, by using the CP we explicitely allow to overcome slight timing offsets and subsequent channel estimation will recover the residual timing offset. \n",
    "\n",
    "As an alternative calculation, Schmidl and Cox give a recursive method to calculate $P(d)$ by\n",
    "\n",
    "$$ P(d+1) = P(d) + r[d+L]^*r[d+2L] - r[d]^*r[d+L] $$\n",
    "\n",
    "which we can also implement directly. However, note that the starting point $P(0)$ still needs to be calculated in the standard way. Let's first check if both ways to calculate the metric are equal:"
   ]
  },
  {
   "cell_type": "code",
   "execution_count": null,
   "metadata": {},
   "outputs": [],
   "source": [
    "# Method 2 to calculate P(d)\n",
    "P0 = sum(r[m].conj()*r[m+ofdm.L] for m in range(ofdm.L))  # initialize P[0] with the default method\n",
    "def calcP_method2(r, d_set, P0):\n",
    "    P2 = np.zeros(len(d_set), dtype=complex)\n",
    "    P2[0] = P0\n",
    "    for d in d_set[:-1]:\n",
    "        P2[d+1] = P2[d] + r[d+ofdm.L].conj()*r[d+2*ofdm.L] - r[d].conj()*r[d+ofdm.L]\n",
    "    return P2\n",
    "\n",
    "P2 = calcP_method2(r, d_set, P0)\n",
    "\n",
    "plt.plot(d_set, abs(P2), 'b--', lw=3, label='$P(d)$ (equation (6))'); \n",
    "plt.plot(d_set, abs(P1), 'r', label='$P(d)$ (equation (5))')\n",
    "plt.legend(); plt.grid(True); plt.xlabel('$d$'); plt.ylabel('$|P(d)|$'); plt.ylim(-10, 4*350);"
   ]
  },
  {
   "cell_type": "markdown",
   "metadata": {},
   "source": [
    "Unsurprisingly, both methods yield the same result. Let's see, what happens, if we set the initial condition to $P(0)=0$ to overcome the initial calculation of $P(0)$:"
   ]
  },
  {
   "cell_type": "code",
   "execution_count": null,
   "metadata": {},
   "outputs": [],
   "source": [
    "P2_0 = calcP_method2(r, d_set, P0=0)\n",
    "plt.plot(d_set, abs(P2_0), 'b--', lw=3, label='$P(d)$ (equation (6) with $P(0)=0$)'); \n",
    "plt.plot(d_set, abs(P1), 'r', label='$P(d)$ (equation (5))')\n",
    "plt.legend(); plt.grid(True); plt.xlabel('$d$'); plt.ylabel('$|P(d)|$'); plt.ylim((-10, 4*350));"
   ]
  },
  {
   "cell_type": "markdown",
   "metadata": {},
   "source": [
    "The curve marginally changes, however the general shape remains the same. To further formalize the calculation of $P(d)$ let us define the following signal $v[d]$ by\n",
    "\n",
    "$$ v[d] = r[d+L]^*r[d+2L]$$\n",
    "\n",
    "With this definition, we can rewrite the recursive calculation of $P(d)$ as\n",
    "\n",
    "$$ P(d+1) = P(d) + v[d] - v[d-L], $$\n",
    "\n",
    "which seemingly becomes a linear IIR filtering operation of $v[d]$. However, note that, unfortunately, $v[d]$ is not causal, as it depends on data from the future, namely on $r[d+L]$ and $r[d+2L]$. To make the system causal, we can introduce an artificial delay of $2L$ samples to $r[d]$ to yield $\\bar{r}[n]=r[n-2L]$. Now, defining \n",
    "\n",
    "$$ \\bar{v}[d] = \\bar{r}[d+L]^*\\bar{r}[d+2L]=r[d-L]^*r[d]$$\n",
    "\n",
    "we can find a causal version $\\bar{P}(d)$ by\n",
    "\n",
    "$$ \\bar{P}(d+1) = \\bar{P}(d) + \\bar{v}[d] - \\bar{v}[d-L] $$\n",
    "\n",
    "which we can calculate by a standard IIR filter implementation:"
   ]
  },
  {
   "cell_type": "code",
   "execution_count": null,
   "metadata": {},
   "outputs": [],
   "source": [
    "def calcP_method3(r):\n",
    "    L = ofdm.L\n",
    "    b_P = np.zeros(L)\n",
    "    b_P[0] = 1; b_P[L-1] = -1;\n",
    "    a_P = (1, -1)\n",
    "    \n",
    "    # Implements r[d-L] * r[d], assuming r[d<0] = 0\n",
    "    v_bar = np.hstack([np.zeros(L), r[L:].conj() * r[:-L]]) \n",
    "    P_bar = scipy.signal.lfilter(b_P, a_P, v_bar)\n",
    "    return P_bar\n",
    "\n",
    "P_bar = calcP_method3(r)\n",
    "plt.plot(abs(P_bar), label='$\\\\bar{P}(d)$')\n",
    "plt.plot(abs(P1), label='$P(d)$')\n",
    "plt.grid(True); plt.xlim((0, 3000)); plt.xlabel('$d$'); plt.ylabel('$|P(d)|$'); plt.legend(); plt.ylim((-10, 4*350));\n",
    "plt.annotate(s='', xy=(sto,4*310), xytext=(sto+2*ofdm.L,4*310), arrowprops=dict(arrowstyle='<-', shrinkA=0,shrinkB=0));\n",
    "plt.text(sto+ofdm.L, 4*310, '$2L$ Filter Delay', va='bottom', ha='center', fontsize=10);"
   ]
  },
  {
   "cell_type": "markdown",
   "metadata": {},
   "source": [
    "Apparently, the filter has a delay of $2L$ samples compared to the non-causal (and hence not realizable) original implementation. Now, given that we have a linear IIR filter, it might be interesting to look at its impulse response:"
   ]
  },
  {
   "cell_type": "code",
   "execution_count": null,
   "metadata": {},
   "outputs": [],
   "source": [
    "b = np.zeros(ofdm.L); b[0] = 1; b[ofdm.L-1] = -1;\n",
    "a = (1,-1)\n",
    "impulse = np.zeros(4*ofdm.L); impulse[500] = 1;\n",
    "\n",
    "plt.plot(np.arange(len(impulse)), scipy.signal.lfilter(b, a, impulse))\n",
    "plt.ylim((-0.1,1.1)); plt.grid(True); plt.xlabel('Samples'); plt.ylabel('$h[n]$'); plt.title('Response to $v[n]=\\\\delta[n-500]$');"
   ]
  },
  {
   "cell_type": "markdown",
   "metadata": {},
   "source": [
    "The impulse response of the filter is a rect function of width of $L$ samples. This makes sense, looking at equation (5) in the original paper. But wait, ... didn't we just say we have an IIR (infinite impulse response) filter? Hm, let's have a look in more detail into the Z domain of the filter. Here, we simplify a bit and use the common $x[n]$ and $y[n]$ for input and output signals, respectively:\n",
    "\n",
    "$$\\begin{align} y[n] &= y[n-1] + x[n] - x[n-L] \\\\\n",
    "Y(z)(1-z^{-1})&=X(z)(1-z^{-L})\\\\\n",
    "H(z)&=\\frac{Y(z)}{X(z)}=\\frac{1-z^{-L}}{1-z^{-1}}\\\\\n",
    "&=\\frac{(1-z^{-1})(1+z^{-1}+z^{-2}+\\dots+z^{-(L-1)}}{1-z^{-1}}=1+z^{-1}+z^{-2}+\\dots+z^{-(L-1)}\\end{align}$$\n",
    "\n",
    "There, the last rows follows from the general rule $1-x^{-n}=(1-x)(1+x^{-1}+\\dots+x^{-(n-1)})$. Hence, we see that the pole and zero at $z=1$ cancel out and hence leaves us with a FIR filter, which can still be implemented recursively. "
   ]
  },
  {
   "cell_type": "markdown",
   "metadata": {},
   "source": [
    "### Calculating $R(d)$\n",
    "\n",
    "In addition to the autocorrelation metric $P(d)$, Schmidl and Cox propose to employ the receive energy $R(d)$ given by\n",
    "\n",
    "$$R(d) = \\sum_{m=0}^{L-1}|r[d+m+L]|^2 $$\n",
    "\n",
    "which can again be calculated with steps similar to $P(d)$. In particular, the non-causal recursive version is given by\n",
    "\n",
    "$$ R(d+1) = R(d) + |r[d+2L]|^2-|r[d+L]|^2 $$\n",
    "\n",
    "and the corresponding causal version is given by\n",
    "\n",
    "$$ \\bar{R}(d+1) = \\bar{R}(d) + |r[d]|^{2} - |r[d-L]|^{2}. $$\n",
    "\n",
    "Let us compare their implementation:"
   ]
  },
  {
   "cell_type": "code",
   "execution_count": null,
   "metadata": {},
   "outputs": [],
   "source": [
    "def calcR_method1(r, d_set):\n",
    "    # calculation based on the iterative method\n",
    "    R = np.zeros(len(d_set))\n",
    "    for i, d in enumerate(d_set):\n",
    "        R[i] = sum(abs(r[d+m+ofdm.L])**2 for m in range(ofdm.L))\n",
    "    return R\n",
    "\n",
    "def calcR_method2(r, d_set, R0):\n",
    "    # calculation based on non-causal recursive expression\n",
    "    R = np.zeros(len(d_set))\n",
    "    R[0] = R0\n",
    "    for d in d_set[:-1]:\n",
    "        R[d+1] = R[d] + abs(r[d+2*ofdm.L])**2-abs(r[d+ofdm.L])**2\n",
    "    return R\n",
    "\n",
    "def calcR_method3(r):\n",
    "    # calculation based on IIR filter expression\n",
    "    b = np.zeros(ofdm.L); b[0] = 1; b[-1] = -1;\n",
    "    a = (1,-1)\n",
    "    return scipy.signal.lfilter(b, a, abs(r)**2)\n",
    "\n",
    "R1 = calcR_method1(r, d_set)\n",
    "R2 = calcR_method2(r, d_set, R1[0])\n",
    "R_bar = calcR_method3(r)"
   ]
  },
  {
   "cell_type": "code",
   "execution_count": null,
   "metadata": {},
   "outputs": [],
   "source": [
    "plt.plot(abs(R1), 'b--', lw=3, label='R, method 1')\n",
    "plt.plot(abs(R2), 'r', label='R, method 2')\n",
    "plt.plot(abs(R_bar), 'g', label='R, method 3')\n",
    "plt.grid(True); plt.xlabel('$d$'); plt.ylabel('$|R(d)|$'); plt.xlim((0, 3000)); plt.legend()\n",
    "plt.annotate(s='', xy=(0,4*270), xytext=(2*ofdm.L,4*270), arrowprops=dict(arrowstyle='<-', shrinkA=0,shrinkB=0));\n",
    "plt.text(ofdm.L, 4*270, '$2L$ Filter Delay', va='bottom', ha='center', fontsize=10);"
   ]
  },
  {
   "cell_type": "markdown",
   "metadata": {},
   "source": [
    "### Calculating the final metric $M(d)$\n",
    "\n",
    "Finally, the authors propose to normalize the autocorrelation $P(d)$ with the receive energy $R(d)$, yielding the final metric $M(d)$ given by\n",
    "\n",
    "$$ M(d) = \\frac{|P(d)|^2}{R(d)^2}. $$\n",
    "\n",
    "Let's look at this metric for our frame:"
   ]
  },
  {
   "cell_type": "code",
   "execution_count": null,
   "metadata": {},
   "outputs": [],
   "source": [
    "import matplotlib.patches as patches\n",
    "\n",
    "M = abs(P1)**2/R1**2\n",
    "M_bar = abs(P_bar)**2/R_bar**2\n",
    "\n",
    "plt.plot(abs(r), label='$r[n]$', color='cyan')\n",
    "plt.plot(M, label='$M(d)$')\n",
    "plt.plot(M_bar, label='$\\\\bar{M}(d)$')\n",
    "plt.grid(True); plt.legend(); plt.xlim(0, 5000);\n",
    "\n",
    "symLength = ofdm.K + ofdm.CP\n",
    "plt.annotate(s='',xy=(sto, 4), xytext=(sto+symLength, 4), arrowprops=dict(arrowstyle='<->'))\n",
    "plt.text(sto+0.5*(ofdm.K+ofdm.CP),4,r'Preamble',va='bottom', ha='center', fontsize=10);\n",
    "plt.axvline(sto, color='black', ls='--'); plt.axvline(sto+symLength, color='black', ls='--');\n",
    "\n",
    "plt.annotate(s='', xy=(sto,1), xytext=(sto+2*ofdm.L,1), arrowprops=dict(arrowstyle='<-', shrinkA=0,shrinkB=0));\n",
    "plt.text(sto+1.2*ofdm.L, 1, '$2L$ Filter Delay', va='bottom', ha='center', fontsize=10);\n",
    "plt.gca().add_patch(patches.Rectangle((sto,0), ofdm.CP, 5, hatch='/', fill=None, zorder=100,color='gray'));\n",
    "plt.text(sto+ofdm.CP/1.5, 2.5, 'Cyclic prefix', rotation=90, va='center', ha='center');"
   ]
  },
  {
   "cell_type": "markdown",
   "metadata": {},
   "source": [
    "As shown, the original $M(d)$ reaches the maximum, when the preamble starts. However, this filter is non-causal, as it requires knowledge of the upcoming samples from the signal. The causal version $\\bar{M}(d)$ has a delay of 2L samples but is practically realizable. "
   ]
  },
  {
   "cell_type": "markdown",
   "metadata": {},
   "source": [
    "### Evaluation of the metric magnitude\n",
    "\n",
    "In their paper, the authors derive that the metric $M(d)$ evaluated at the correct timing (i.e. within the CP of the preamble) is Gaussian distributed, with mean $\\mu$ and variance $\\sigma^2$, which are given by\n",
    "\n",
    "$$\\begin{align} \\mu &= \\frac{\\sigma_s^4}{(\\sigma_s^2+\\sigma_n^2)^2} & \\text{equation (19)}\\\\\n",
    "\\sigma^2 &= \\frac{2\\sigma_s^4[(1+\\mu)\\sigma_s^2\\sigma_n^2+(1+2\\mu)\\sigma_n^4]}{L(\\sigma_s^2+\\sigma_n^2)^4}&\\text{equation (20)}\n",
    "\\end{align}$$\n",
    "\n",
    "where $\\sigma_s^2$ is the preamble power and $\\sigma_n^2$ is the noise power. With the relation of the SNR $\\rho$ given by\n",
    "$$ \\rho=\\frac{\\sigma_s^2}{\\sigma_n^2}, \\quad \\sigma_n^2=\\rho\\sigma_s^2$$ we find these two equations to become\n",
    "\n",
    "$$ \\begin{align}\\mu &= \\frac{1}{(1+\\rho)^2}\\\\ \\sigma^2 &= \\frac{2[(1+\\mu)\\rho+(1+2\\mu)\\rho^2]}{L(1+\\rho)^4} \\end{align}.$$\n",
    "\n",
    "Let us verify this numerically. First, let's define a common function that calculates our metric $\\bar{M}$. However, we already erase the first $L$ samples, as they contain largely garbage information:"
   ]
  },
  {
   "cell_type": "code",
   "execution_count": null,
   "metadata": {},
   "outputs": [],
   "source": [
    "def calcP_R_M(rx_signal, L):\n",
    "    rx1 = rx_signal[:-L]\n",
    "    rx2 = rx_signal[L:]\n",
    "    mult = rx1.conj() * rx2\n",
    "    square = abs(rx1**2)\n",
    "    \n",
    "    zi = np.zeros(L-1)\n",
    "    \n",
    "    a_P = (1, -1)\n",
    "    b_P = np.zeros(L); b_P[0] = 1; b_P[-1] = -1;\n",
    "    P = scipy.signal.lfilter(b_P, a_P, mult) / L\n",
    "    R = scipy.signal.lfilter(b_P, a_P, square) / L\n",
    "    \n",
    "    Pr = P[L:]\n",
    "    Rr = R[L:]\n",
    "    M = abs(Pr/Rr)**2\n",
    "    return Pr, Rr, M  # throw away first L samples, as they are not correct due to filter causality"
   ]
  },
  {
   "cell_type": "markdown",
   "metadata": {},
   "source": [
    "Now, let's calculate the metric for different SNRs:"
   ]
  },
  {
   "cell_type": "code",
   "execution_count": null,
   "metadata": {},
   "outputs": [],
   "source": [
    "from collections import defaultdict\n",
    "# Careful, this cell takes some time to run\n",
    "M_dopt = defaultdict(list)\n",
    "M_doutside = defaultdict(list)\n",
    "SNRs = np.linspace(-10, 30, 21)\n",
    "for SNR in SNRs:\n",
    "    for i in range(100):\n",
    "        tx_signal = createFrame(ofdm, qam_preamble=None)\n",
    "        sigma_s2 = np.mean(abs(tx_signal**2))\n",
    "        sigma_n2 = sigma_s2 * 10**(-SNR/10.)\n",
    "        sto = 1000\n",
    "        cfo = 0.05/ofdm.K\n",
    "        rx_signal = addNoise(addCFO(addSTO(tx_signal, sto), cfo), sigma_n2)\n",
    "        P, R, M = calcP_R_M(rx_signal, ofdm.L)\n",
    "        M_dopt[SNR].append(M[sto])\n",
    "        M_doutside[SNR].append(M[sto+ofdm.K])"
   ]
  },
  {
   "cell_type": "markdown",
   "metadata": {},
   "source": [
    "Finally, let's evaluate the results and compare against the theoretic values:"
   ]
  },
  {
   "cell_type": "code",
   "execution_count": null,
   "metadata": {},
   "outputs": [],
   "source": [
    "def calc_MeanStd(SNRs, measurement):\n",
    "    mean = np.array([np.mean(measurement[SNR]) for SNR in SNRs])\n",
    "    std = np.array([np.std(measurement[SNR]) for SNR in SNRs])\n",
    "    return mean, std\n",
    "mean_opt, std_opt = calc_MeanStd(SNRs, M_dopt)\n",
    "\n",
    "# Plot the measured curves\n",
    "plt.plot(SNRs, mean_opt, label='Simulated', color='blue', lw=3)\n",
    "plt.plot(SNRs, mean_opt+3*std_opt, 'b--')\n",
    "plt.plot(SNRs, mean_opt-3*std_opt, 'b--')\n",
    "\n",
    "# Plot the theoretic curves\n",
    "rho = 10**(-SNRs/10)\n",
    "mu = 1/(1+rho)**2\n",
    "std = np.sqrt(2*((1+mu)*rho+(1+2*mu)*rho**2)/(ofdm.L*(1+rho)**4))\n",
    "#print (std)\n",
    "plt.plot(SNRs, mu, label='Theory', color='r', lw=2)\n",
    "plt.plot(SNRs, mu + 3*std, color='r', lw=2, ls='--')\n",
    "plt.plot(SNRs, mu - 3*std, color='r', lw=2, ls='--')\n",
    "plt.grid(True); plt.legend(); plt.xlabel('SNR [dB]'); plt.ylabel('$M(d_{opt})$'); plt.ylim((0,1));"
   ]
  },
  {
   "cell_type": "markdown",
   "metadata": {},
   "source": [
    "Apparently, the simulated and theoretic curves overlap. Moreover, the values coincide with Fig. 4 from the original reference. "
   ]
  },
  {
   "cell_type": "markdown",
   "metadata": {},
   "source": [
    "### Using $M(d)$ for synchronization\n",
    "\n",
    "Given the metric $M(d)$, it still remains unclear how the metric shall be practically used for timing synchronization. We will explain this is the following. Intuitively, it's clear that whenever $M(d)$ goes beyond a certain threshold, a preamble was detected. However, given that the metric does not have a clear peak, but a plateau, some extra logic is necessary to detect the actual frames. \n",
    "\n",
    "Consider a frame structure as previously. In addition, there can be arbitrary delay between frames to make timing synchronization more difficult. Let's first create a sample signal. For illustration purposes we also indicate where the preamble and where the payload symbols are located:"
   ]
  },
  {
   "cell_type": "code",
   "execution_count": null,
   "metadata": {},
   "outputs": [],
   "source": [
    "def createFrame_withSyncInfo(ofdm):\n",
    "    qam_preamble = np.sqrt(2)*random_qam(ofdm)\n",
    "    qam_preamble[::2] = 0\n",
    "    preamble = ofdm_modulate(ofdm, qam_preamble)\n",
    "\n",
    "    payload = np.hstack([ofdm_modulate(ofdm, random_qam(ofdm)) for _ in range(ofdm.ofdmSymbolsPerFrame)])\n",
    "    \n",
    "    frame = np.hstack([preamble, payload])\n",
    "    preamble_valid = np.zeros(len(frame))\n",
    "    payload_valid = np.zeros(len(frame))\n",
    "    preamble_valid[ofdm.CP:ofdm.CP+ofdm.K] = 1\n",
    "    for f in range(ofdm.ofdmSymbolsPerFrame):\n",
    "        payload_valid[(ofdm.CP+ofdm.K)*(f+1) + ofdm.CP + np.arange(ofdm.K)] = 1\n",
    "    \n",
    "    return frame, preamble_valid, payload_valid\n",
    "frame, preamble_valid, payload_valid = createFrame_withSyncInfo(ofdm)\n",
    "plt.plot(abs(frame), label='Signal');\n",
    "plt.plot(preamble_valid, label='Preamble valid')\n",
    "plt.plot(payload_valid, label='Payload valid')\n",
    "plt.grid(True); plt.ylim((-0.5, 2))\n",
    "symLength = ofdm.K + ofdm.CP\n",
    "plt.annotate(s='',xy=(0,-0.4), xytext=(symLength, -0.4), arrowprops=dict(arrowstyle='<->'))\n",
    "plt.text(0.5*(ofdm.K+ofdm.CP),-0.4,r'Preamble',va='bottom', ha='center', fontsize=10);\n",
    "for s in range(ofdm.ofdmSymbolsPerFrame):\n",
    "    plt.annotate(s='',xy=((s+1)*symLength, -0.4), xytext=((s+2)*symLength, -0.4), arrowprops=dict(arrowstyle='<->'))\n",
    "    plt.text((s+1.5)*symLength, -0.4, 'Payload', va='bottom', ha='center', fontsize=10);\n",
    "    plt.axvline((s+1)*symLength, ls='dashed', color='black')\n",
    "plt.xlabel('n [Samples]'); plt.ylabel('$|x[n]|$'); plt.title('One OFDM Frame $x[n]$');\n",
    "plt.legend(fontsize=9);"
   ]
  },
  {
   "cell_type": "markdown",
   "metadata": {
    "collapsed": true
   },
   "source": [
    "Now, let's create a signal consisting of 3 frames with some delays between them. We plot the signal and the corresponding genie-sync information. "
   ]
  },
  {
   "cell_type": "code",
   "execution_count": null,
   "metadata": {},
   "outputs": [],
   "source": [
    "np.random.seed(14);\n",
    "delays = [1000, 1500, 2000]\n",
    "tx_signal = []\n",
    "preamble_valid = []\n",
    "payload_valid = []\n",
    "for d in delays:\n",
    "    Z = np.zeros(d)\n",
    "    frame, pream_valid, pay_valid = createFrame_withSyncInfo(ofdm)\n",
    "    tx_signal.extend([frame, Z]); preamble_valid.extend([pream_valid, Z]); payload_valid.extend([pay_valid, Z])\n",
    "tx_signal = np.hstack(tx_signal); preamble_valid = np.hstack(preamble_valid); payload_valid = np.hstack(payload_valid)\n",
    "\n",
    "rx_signal = addNoise(addSTO(tx_signal, sto), 0.5)\n",
    "preamble_valid = addSTO(preamble_valid, sto)\n",
    "payload_valid = addSTO(payload_valid, sto)\n",
    "plt.plot(abs(rx_signal), color='cyan', label='RX signal');\n",
    "plt.plot(preamble_valid, label='Preamble valid')\n",
    "plt.plot(payload_valid, label='Payload valid')\n",
    "plt.grid(True); plt.xlabel('$n$'); plt.ylabel('$|x[n]|$'); plt.legend(fontsize=10); plt.xlim((0, len(rx_signal)));"
   ]
  },
  {
   "cell_type": "markdown",
   "metadata": {},
   "source": [
    "Now, the task is to write a function that recreates the sync-info solely based on the received signal. To start out, let's calculate the our metric and plot it on top of the preamble_valid metric."
   ]
  },
  {
   "cell_type": "code",
   "execution_count": null,
   "metadata": {
    "scrolled": true
   },
   "outputs": [],
   "source": [
    "P, R, M = calcP_R_M(rx_signal, ofdm.L)\n",
    "plt.subplot(211)\n",
    "plt.plot(abs(rx_signal), label='Rx signal', color='cyan')\n",
    "plt.plot(abs(M), label='M')\n",
    "plt.plot(preamble_valid, label='Genie Preamble valid')\n",
    "plt.legend(fontsize=10);\n",
    "plt.grid(True); plt.xlabel('$n$'); plt.ylabel('$|x[n]|, M(n)$'); plt.legend(fontsize=10);\n",
    "plt.yticks([0, 1, 2])\n",
    "plt.ylim((0, 3));\n",
    "\n",
    "plt.subplot(212)\n",
    "plt.plot(abs(rx_signal), label='Rx signal', color='cyan')\n",
    "plt.plot(abs(M), label='M')\n",
    "plt.plot(preamble_valid, label='Genie Preamble valid')\n",
    "plt.legend(fontsize=10);\n",
    "plt.xlim((0, 4*ofdm.K))\n",
    "plt.grid(True); plt.xlabel('$n$'); plt.ylabel('$|x[n]|, M(n)$'); plt.legend(fontsize=10);\n",
    "plt.yticks([0, 1, 2])\n",
    "plt.tight_layout();\n",
    "plt.ylim((0, 3));"
   ]
  },
  {
   "cell_type": "markdown",
   "metadata": {},
   "source": [
    "As visible in the zoomed-in version, the genie preamble-valid signal becomes true at the end of the plateau of the metric. Hence, we need to write an algorithm that detects the end of the plateau. We know, the plateau has a with of the size of the CP. One option to transform the plateau into a peak is to perform a matched filtering operation with a rectangle of the width of the plateau:"
   ]
  },
  {
   "cell_type": "code",
   "execution_count": null,
   "metadata": {},
   "outputs": [],
   "source": [
    "b_toPeak = np.ones(ofdm.CP) / ofdm.CP\n",
    "a = (1,)\n",
    "M_filt = scipy.signal.lfilter(b_toPeak, a, M)\n",
    "xlim = (0, 20000)\n",
    "\n",
    "preamble_start = np.diff(preamble_valid) == 1  # Calculate a flag indicating the start of the preamble\n",
    "\n",
    "plt.figure(figsize=(8,8))\n",
    "plt.subplot(311)\n",
    "plt.plot(M, label='$M$')\n",
    "plt.plot(M_filt, label='$M * rect(CP)$')\n",
    "plt.plot(preamble_start, label='Preamble start')\n",
    "plt.xlabel('$n$'); plt.ylabel('$M(n)$'); plt.grid(True); plt.legend(fontsize=10);\n",
    "\n",
    "plt.subplot(312)\n",
    "plt.plot(M, label='$M$')\n",
    "plt.plot(M_filt, label='$M * rect(CP)$')\n",
    "plt.plot(preamble_start, label='Preamble start')\n",
    "plt.xlim((400, 1400)); plt.ylim((0,0.4));\n",
    "plt.xlabel('$n$'); plt.ylabel('$M(n)$'); plt.grid(True); plt.legend(fontsize=10, loc='best');"
   ]
  },
  {
   "cell_type": "markdown",
   "metadata": {},
   "source": [
    "As shown, the filtering with a rectangle as two effects: First, it smooths out some noise, second it transforms the plateau into a peak, though the peak is not very pronounced. Let us now try to perform some peak detection on the green line. As known, a peak in a curve corresponds to a zero in its derivative. So, let's look at the derivative:"
   ]
  },
  {
   "cell_type": "code",
   "execution_count": null,
   "metadata": {},
   "outputs": [],
   "source": [
    "D = np.diff(M_filt)\n",
    "plt.plot(D, label='Derivative of $M*rect(CP)$')\n",
    "plt.plot(preamble_start, label='Preamble start', color='r')\n",
    "plt.ylim((-0.002,0.002)); plt.grid(True); plt.legend(fontsize=10);"
   ]
  },
  {
   "cell_type": "markdown",
   "metadata": {},
   "source": [
    "This looks good already! The derivative seems to have zeros where the preamble starts. Let's further investigate and detect the zero-crossings of the derivative. The zero-crossings of a signal are determined by a sign change of adjacent samples, hence the product of two adjacent samples should be negative:"
   ]
  },
  {
   "cell_type": "code",
   "execution_count": null,
   "metadata": {},
   "outputs": [],
   "source": [
    "zeroCrossing_1 = (D[:-1] * D[1:]) <= 0\n",
    "plt.plot(zeroCrossing_1, label='Detected Zero-Crossings (1)');\n",
    "plt.plot(preamble_start, label='Preamble start');\n",
    "plt.grid(True); plt.legend(fontsize=10); plt.ylim((-0.1, 1.1));"
   ]
  },
  {
   "cell_type": "markdown",
   "metadata": {},
   "source": [
    "Hm, there are a lot of erroneous zero-crossings detected. Sure, when the metric is small (i.e. there is no preamble), there is only noise on the preamble, and there a lot of zero-crossings happen. So, let's add another criterion: Detect the zero-crossings, where the metric goes beyond a certain threshold:"
   ]
  },
  {
   "cell_type": "code",
   "execution_count": null,
   "metadata": {},
   "outputs": [],
   "source": [
    "zeroCrossing_2 = ((D[:-1] * D[1:]) <= 0) * (M[1:-1] > 0.1)\n",
    "plt.plot(zeroCrossing_2, label='Detected Zero-Crossings (2)');\n",
    "plt.plot(preamble_start, label='Preamble start');\n",
    "plt.grid(True); plt.legend(fontsize=10); plt.ylim((-0.1, 1.1));"
   ]
  },
  {
   "cell_type": "markdown",
   "metadata": {},
   "source": [
    "Ah, this looks much better. But, now let's zoom into one preamble start to examine a bit more in detail how the detected zero-crossings look:"
   ]
  },
  {
   "cell_type": "code",
   "execution_count": null,
   "metadata": {},
   "outputs": [],
   "source": [
    "zeroCrossing_2 = ((D[:-1] * D[1:]) <= 0) * (M[1:-1] > 0.1)\n",
    "plt.plot(zeroCrossing_2, label='Detected Zero-Crossings (2)');\n",
    "plt.plot(preamble_start, label='Preamble start');\n",
    "plt.plot(D*1000, label='Derivative of $M*rect(CP)$');\n",
    "plt.xlim((1000, 1200))\n",
    "plt.grid(True); plt.legend(fontsize=10); plt.ylim((-0.3, 1.1));"
   ]
  },
  {
   "cell_type": "markdown",
   "metadata": {},
   "source": [
    "Hm, there are multiple zero-crossings detected. This is clear, when looking at the derivative, as it indeed has multiple zero-crossings. Moreover, the position of the detected zero-crossings does not match exactly the expected position. Instead, the zero-crossings appear few samples before the correct starting point. However, this is not a problem as the OFDM symbol contains a CP and hence makes it robust against slight timing misalignments. \n",
    "\n",
    "Let's try to remove the multiple peaks and just keep the first sample. The idea is to ignore all detected zero-crossings except the first one in a range of $K+CP$ samples:"
   ]
  },
  {
   "cell_type": "code",
   "execution_count": null,
   "metadata": {},
   "outputs": [],
   "source": [
    "# create a rect window that remains switched on as for the length of the symbol\n",
    "b_ignore = np.ones(1+ofdm.K+ofdm.CP); b_ignore[0] = 0;  \n",
    "ignore_times = (scipy.signal.lfilter(b_ignore, (1, ), zeroCrossing_2) > 0).astype(int)\n",
    "\n",
    "plt.plot(zeroCrossing_2, label='Detected Zero-Crossings (2)');\n",
    "plt.plot(preamble_start, label='Preamble start');\n",
    "plt.plot(D*1000, label='Derivative of $M*rect(CP)$');\n",
    "plt.plot(ignore_times, label='Ignore window')\n",
    "plt.xlim((1000, 1200))\n",
    "plt.grid(True); plt.legend(fontsize=10); plt.ylim((-0.3, 1.1));"
   ]
  },
  {
   "cell_type": "markdown",
   "metadata": {},
   "source": [
    "Now, we delete all detected zero-crossings when the ignore-window is non-zero:"
   ]
  },
  {
   "cell_type": "code",
   "execution_count": null,
   "metadata": {},
   "outputs": [],
   "source": [
    "zeroCrossing_3 = zeroCrossing_2 * (ignore_times == 0)   # keep only the zero-crossings where the ignore-window is not on\n",
    "plt.plot(zeroCrossing_3, label='Detected Zero-Crossing (3)');\n",
    "plt.plot(preamble_start, label='Preamble start');\n",
    "plt.plot(D*1000, label='Derivative of $M*rect(CP)$');\n",
    "plt.xlim((1000, 1200))\n",
    "plt.grid(True); plt.legend(fontsize=10); plt.ylim((-0.3, 1.1));"
   ]
  },
  {
   "cell_type": "markdown",
   "metadata": {},
   "source": [
    "Now, we have extracted the first zero-crossing and hence extracted an estimate of the preamble start. As the final step, we need to extract the OFDM symbols and preamble from the received signal stream. Let's simply do this with a FIR filter describing the structure of the frame:"
   ]
  },
  {
   "cell_type": "code",
   "execution_count": null,
   "metadata": {},
   "outputs": [],
   "source": [
    "b_preamble = np.zeros(ofdm.K+ofdm.ofdmSymbolsPerFrame*(ofdm.K+ofdm.CP))\n",
    "b_preamble[:ofdm.K] = 1\n",
    "\n",
    "b_payload = np.zeros(ofdm.K + ofdm.ofdmSymbolsPerFrame*(ofdm.K+ofdm.CP))\n",
    "for s in range(ofdm.ofdmSymbolsPerFrame):\n",
    "    b_payload[ofdm.K + (s+1)*ofdm.CP + s*ofdm.K + np.arange(ofdm.K)] = 1\n",
    "    \n",
    "preamble_valid_est = scipy.signal.lfilter(b_preamble, (1,), zeroCrossing_3)\n",
    "payload_valid_est = scipy.signal.lfilter(b_payload, (1,), zeroCrossing_3)\n",
    "\n",
    "plt.plot(abs(rx_signal), color='cyan', label='RX signal');\n",
    "plt.plot(preamble_valid, label='Preamble valid', color='blue')\n",
    "plt.plot(preamble_valid_est, label='Preamble valid estimated', color='blue', ls='--')\n",
    "plt.plot(payload_valid, label='Payload valid', color='r')\n",
    "plt.plot(payload_valid_est, label='Payload valid', color='r', ls='--')\n",
    "plt.grid(True); plt.xlabel('$n$'); plt.ylabel('$|x[n]|$'); plt.legend(fontsize=10); plt.xlim((0, len(rx_signal)));"
   ]
  },
  {
   "cell_type": "markdown",
   "metadata": {},
   "source": [
    "Great! Now, we have nicely extracted the OFDM payload symbols excluding the CP. The estimated frame position sufficiently matches the exact positions of the symbols. However, due to the CP, a slight timing offset is not problematic. \n",
    "\n",
    "In a subsequent step, we would send these symbols to the OFDM demodulator and channel estimator, as described in e.g. [the OFDM Example](http://dspillustrations.com/pages/posts/misc/python-ofdm-example.html)."
   ]
  },
  {
   "cell_type": "markdown",
   "metadata": {},
   "source": [
    "## Summary\n",
    "> 1. Synchronization in OFDM is necessary to detect the start of an OFDM frame, such that the FFT window can be located correctly.\n",
    "> 2. For OFDM, the most basic algorithm is the Schmidl&Cox-Algorithm which bases on a synchronization sequence that consists of two repeated parts.\n",
    "> 3. The synchronization algorithm calculates a metric which shows a plateau around the position of the preamble. \n",
    "> 4. To implement a real OFDM synchronization, additional logic for plateau detection and preamble and payload extraction is necessary after the metric has been obtained successfully."
   ]
  }
 ],
 "metadata": {
  "kernelspec": {
   "display_name": "Python 3",
   "language": "python",
   "name": "python3"
  },
  "language_info": {
   "codemirror_mode": {
    "name": "ipython",
    "version": 3
   },
   "file_extension": ".py",
   "mimetype": "text/x-python",
   "name": "python",
   "nbconvert_exporter": "python",
   "pygments_lexer": "ipython3",
   "version": "3.6.8"
  }
 },
 "nbformat": 4,
 "nbformat_minor": 2
}
